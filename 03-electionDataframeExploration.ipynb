{
 "cells": [
  {
   "cell_type": "code",
   "execution_count": 15,
   "metadata": {},
   "outputs": [],
   "source": [
    "import matplotlib.pyplot as plt\n",
    "import numpy as np\n",
    "from sklearn.linear_model import LogisticRegression\n",
    "from sklearn.metrics import classification_report, confusion_matrix\n",
    "\n",
    "from sklearn.linear_model import LogisticRegression\n",
    "from sklearn.model_selection import train_test_split\n",
    "\n",
    "import pandas as pd\n",
    "import seaborn as sns\n",
    "sns.set_context('talk')\n",
    "\n",
    "plt.rcParams['font.family'] = \"Ubuntu\"\n",
    "vcolor = '#582c83'"
   ]
  },
  {
   "cell_type": "code",
   "execution_count": 62,
   "metadata": {},
   "outputs": [
    {
     "name": "stderr",
     "output_type": "stream",
     "text": [
      "/home/guimas/anaconda3/envs/volt/lib/python3.8/site-packages/IPython/core/interactiveshell.py:3062: DtypeWarning: Columns (5,57) have mixed types.Specify dtype option on import or set low_memory=False.\n",
      "  has_raised = await self.run_ast_nodes(code_ast.body, cell_name,\n"
     ]
    }
   ],
   "source": [
    "df = pd.read_csv(\"./Files/ew19_wbz/ew19_wbz_ergebnisse.csv\", skiprows=4, delimiter=';', encoding=\"ISO-8859-1\")"
   ]
  },
  {
   "cell_type": "code",
   "execution_count": 63,
   "metadata": {},
   "outputs": [
    {
     "data": {
      "text/plain": [
       "Index(['Land', 'Regierungsbezirk', 'Kreis', 'Verbandsgemeinde', 'Gemeinde',\n",
       "       'Kennziffer Briefwahlzugehörigkeit', 'Wahlbezirk', 'Bezirksart',\n",
       "       'Wahlberechtigte (A)', 'Wahlberechtigte ohne Sperrvermerk (A1)',\n",
       "       'Wahlberechtigte mit Sperrvermerk (A2)',\n",
       "       'Wahlberechtigte nach § 24 Abs. 2 EuWO (A3)', 'Wähler (B)',\n",
       "       'Wähler mit Wahlschein (B1)', 'Ungültig', 'Gültig', 'CDU', 'SPD',\n",
       "       'GRÜNE', 'DIE LINKE', 'AfD', 'CSU', 'FDP', 'FREIE WÄHLER', 'PIRATEN',\n",
       "       'Tierschutzpartei', 'NPD', 'FAMILIE', 'ÖDP', 'Die PARTEI',\n",
       "       'Volksabstimmung', 'BP', 'DKP', 'MLPD', 'SGP', 'TIERSCHUTZ hier!',\n",
       "       'Tierschutzallianz', 'Bündnis C', 'BIG', 'BGE', 'DIE DIREKTE!',\n",
       "       'DiEM25', 'III. Weg', 'Die Grauen', 'DIE RECHTE', 'DIE VIOLETTEN',\n",
       "       'LIEBE', 'DIE FRAUEN', 'Graue Panther', 'LKR', 'MENSCHLICHE WELT', 'NL',\n",
       "       'ÖkoLinX', 'Die Humanisten', 'PARTEI FÜR DIE TIERE',\n",
       "       'Gesundheitsforschung', 'Volt', 'Ungekürzte Wahlbezirksbezeichnung'],\n",
       "      dtype='object')"
      ]
     },
     "execution_count": 63,
     "metadata": {},
     "output_type": "execute_result"
    }
   ],
   "source": [
    "df.columns"
   ]
  },
  {
   "cell_type": "code",
   "execution_count": 90,
   "metadata": {},
   "outputs": [
    {
     "data": {
      "text/html": [
       "<div>\n",
       "<style scoped>\n",
       "    .dataframe tbody tr th:only-of-type {\n",
       "        vertical-align: middle;\n",
       "    }\n",
       "\n",
       "    .dataframe tbody tr th {\n",
       "        vertical-align: top;\n",
       "    }\n",
       "\n",
       "    .dataframe thead th {\n",
       "        text-align: right;\n",
       "    }\n",
       "</style>\n",
       "<table border=\"1\" class=\"dataframe\">\n",
       "  <thead>\n",
       "    <tr style=\"text-align: right;\">\n",
       "      <th></th>\n",
       "      <th>Land</th>\n",
       "      <th>Regierungsbezirk</th>\n",
       "      <th>Kreis</th>\n",
       "      <th>Verbandsgemeinde</th>\n",
       "      <th>Gemeinde</th>\n",
       "      <th>Kennziffer Briefwahlzugehörigkeit</th>\n",
       "      <th>Wahlbezirk</th>\n",
       "      <th>Bezirksart</th>\n",
       "      <th>Wahlberechtigte (A)</th>\n",
       "      <th>Wahlberechtigte ohne Sperrvermerk (A1)</th>\n",
       "      <th>...</th>\n",
       "      <th>Graue Panther</th>\n",
       "      <th>LKR</th>\n",
       "      <th>MENSCHLICHE WELT</th>\n",
       "      <th>NL</th>\n",
       "      <th>ÖkoLinX</th>\n",
       "      <th>Die Humanisten</th>\n",
       "      <th>PARTEI FÜR DIE TIERE</th>\n",
       "      <th>Gesundheitsforschung</th>\n",
       "      <th>Volt</th>\n",
       "      <th>Ungekürzte Wahlbezirksbezeichnung</th>\n",
       "    </tr>\n",
       "  </thead>\n",
       "  <tbody>\n",
       "    <tr>\n",
       "      <th>0</th>\n",
       "      <td>1</td>\n",
       "      <td>0</td>\n",
       "      <td>3</td>\n",
       "      <td>0</td>\n",
       "      <td>0</td>\n",
       "      <td>0</td>\n",
       "      <td>000608</td>\n",
       "      <td>0</td>\n",
       "      <td>1185</td>\n",
       "      <td>1076</td>\n",
       "      <td>...</td>\n",
       "      <td>0</td>\n",
       "      <td>0</td>\n",
       "      <td>0</td>\n",
       "      <td>0</td>\n",
       "      <td>0</td>\n",
       "      <td>0</td>\n",
       "      <td>1</td>\n",
       "      <td>1</td>\n",
       "      <td>5</td>\n",
       "      <td>NaN</td>\n",
       "    </tr>\n",
       "    <tr>\n",
       "      <th>1</th>\n",
       "      <td>1</td>\n",
       "      <td>0</td>\n",
       "      <td>3</td>\n",
       "      <td>0</td>\n",
       "      <td>0</td>\n",
       "      <td>0</td>\n",
       "      <td>000609</td>\n",
       "      <td>0</td>\n",
       "      <td>636</td>\n",
       "      <td>609</td>\n",
       "      <td>...</td>\n",
       "      <td>0</td>\n",
       "      <td>0</td>\n",
       "      <td>0</td>\n",
       "      <td>0</td>\n",
       "      <td>1</td>\n",
       "      <td>0</td>\n",
       "      <td>0</td>\n",
       "      <td>0</td>\n",
       "      <td>2</td>\n",
       "      <td>NaN</td>\n",
       "    </tr>\n",
       "    <tr>\n",
       "      <th>2</th>\n",
       "      <td>1</td>\n",
       "      <td>0</td>\n",
       "      <td>3</td>\n",
       "      <td>0</td>\n",
       "      <td>0</td>\n",
       "      <td>0</td>\n",
       "      <td>000610</td>\n",
       "      <td>0</td>\n",
       "      <td>1623</td>\n",
       "      <td>1399</td>\n",
       "      <td>...</td>\n",
       "      <td>7</td>\n",
       "      <td>0</td>\n",
       "      <td>0</td>\n",
       "      <td>0</td>\n",
       "      <td>0</td>\n",
       "      <td>2</td>\n",
       "      <td>4</td>\n",
       "      <td>1</td>\n",
       "      <td>7</td>\n",
       "      <td>NaN</td>\n",
       "    </tr>\n",
       "    <tr>\n",
       "      <th>3</th>\n",
       "      <td>1</td>\n",
       "      <td>0</td>\n",
       "      <td>3</td>\n",
       "      <td>0</td>\n",
       "      <td>0</td>\n",
       "      <td>0</td>\n",
       "      <td>000611</td>\n",
       "      <td>0</td>\n",
       "      <td>1604</td>\n",
       "      <td>1484</td>\n",
       "      <td>...</td>\n",
       "      <td>1</td>\n",
       "      <td>1</td>\n",
       "      <td>0</td>\n",
       "      <td>0</td>\n",
       "      <td>0</td>\n",
       "      <td>4</td>\n",
       "      <td>2</td>\n",
       "      <td>1</td>\n",
       "      <td>1</td>\n",
       "      <td>NaN</td>\n",
       "    </tr>\n",
       "    <tr>\n",
       "      <th>4</th>\n",
       "      <td>1</td>\n",
       "      <td>0</td>\n",
       "      <td>3</td>\n",
       "      <td>0</td>\n",
       "      <td>0</td>\n",
       "      <td>0</td>\n",
       "      <td>000612</td>\n",
       "      <td>0</td>\n",
       "      <td>1583</td>\n",
       "      <td>1421</td>\n",
       "      <td>...</td>\n",
       "      <td>4</td>\n",
       "      <td>1</td>\n",
       "      <td>0</td>\n",
       "      <td>0</td>\n",
       "      <td>0</td>\n",
       "      <td>0</td>\n",
       "      <td>1</td>\n",
       "      <td>0</td>\n",
       "      <td>4</td>\n",
       "      <td>NaN</td>\n",
       "    </tr>\n",
       "  </tbody>\n",
       "</table>\n",
       "<p>5 rows × 58 columns</p>\n",
       "</div>"
      ],
      "text/plain": [
       "   Land  Regierungsbezirk  Kreis  Verbandsgemeinde  Gemeinde  \\\n",
       "0     1                 0      3                 0         0   \n",
       "1     1                 0      3                 0         0   \n",
       "2     1                 0      3                 0         0   \n",
       "3     1                 0      3                 0         0   \n",
       "4     1                 0      3                 0         0   \n",
       "\n",
       "  Kennziffer Briefwahlzugehörigkeit Wahlbezirk  Bezirksart  \\\n",
       "0                                 0     000608           0   \n",
       "1                                 0     000609           0   \n",
       "2                                 0     000610           0   \n",
       "3                                 0     000611           0   \n",
       "4                                 0     000612           0   \n",
       "\n",
       "   Wahlberechtigte (A)  Wahlberechtigte ohne Sperrvermerk (A1)  ...  \\\n",
       "0                 1185                                    1076  ...   \n",
       "1                  636                                     609  ...   \n",
       "2                 1623                                    1399  ...   \n",
       "3                 1604                                    1484  ...   \n",
       "4                 1583                                    1421  ...   \n",
       "\n",
       "   Graue Panther  LKR  MENSCHLICHE WELT  NL  ÖkoLinX  Die Humanisten  \\\n",
       "0              0    0                 0   0        0               0   \n",
       "1              0    0                 0   0        1               0   \n",
       "2              7    0                 0   0        0               2   \n",
       "3              1    1                 0   0        0               4   \n",
       "4              4    1                 0   0        0               0   \n",
       "\n",
       "   PARTEI FÜR DIE TIERE  Gesundheitsforschung  Volt  \\\n",
       "0                     1                     1     5   \n",
       "1                     0                     0     2   \n",
       "2                     4                     1     7   \n",
       "3                     2                     1     1   \n",
       "4                     1                     0     4   \n",
       "\n",
       "   Ungekürzte Wahlbezirksbezeichnung  \n",
       "0                                NaN  \n",
       "1                                NaN  \n",
       "2                                NaN  \n",
       "3                                NaN  \n",
       "4                                NaN  \n",
       "\n",
       "[5 rows x 58 columns]"
      ]
     },
     "execution_count": 90,
     "metadata": {},
     "output_type": "execute_result"
    }
   ],
   "source": [
    "df.head()"
   ]
  },
  {
   "cell_type": "code",
   "execution_count": 188,
   "metadata": {},
   "outputs": [],
   "source": [
    "df.iloc[:,16:57].to_csv(\"./Files/justVotes.csv\", index=False)"
   ]
  },
  {
   "cell_type": "code",
   "execution_count": 182,
   "metadata": {},
   "outputs": [
    {
     "data": {
      "text/plain": [
       "array([ 1,  2,  3,  4,  5,  6,  7,  8,  9, 10, 11, 12, 13, 14, 15, 16])"
      ]
     },
     "execution_count": 182,
     "metadata": {},
     "output_type": "execute_result"
    }
   ],
   "source": [
    "df.Land.unique()"
   ]
  },
  {
   "cell_type": "code",
   "execution_count": 65,
   "metadata": {},
   "outputs": [
    {
     "data": {
      "text/plain": [
       "86887"
      ]
     },
     "execution_count": 65,
     "metadata": {},
     "output_type": "execute_result"
    }
   ],
   "source": [
    "len(df)"
   ]
  },
  {
   "cell_type": "code",
   "execution_count": 4,
   "metadata": {},
   "outputs": [
    {
     "data": {
      "text/plain": [
       "<matplotlib.axes._subplots.AxesSubplot at 0x7f1613d03550>"
      ]
     },
     "execution_count": 4,
     "metadata": {},
     "output_type": "execute_result"
    },
    {
     "data": {
      "image/png": "[encoded data removed]",
      "text/plain": [
       "<Figure size 432x288 with 1 Axes>"
      ]
     },
     "metadata": {
      "needs_background": "light"
     },
     "output_type": "display_data"
    }
   ],
   "source": [
    "sns.scatterplot(x='Volt', y='CDU', data=df)"
   ]
  },
  {
   "cell_type": "code",
   "execution_count": 5,
   "metadata": {},
   "outputs": [
    {
     "data": {
      "text/plain": [
       "Index(['Land', 'Regierungsbezirk', 'Kreis', 'Verbandsgemeinde', 'Gemeinde',\n",
       "       'Kennziffer Briefwahlzugehörigkeit', 'Wahlbezirk', 'Bezirksart',\n",
       "       'Wahlberechtigte (A)', 'Wahlberechtigte ohne Sperrvermerk (A1)',\n",
       "       'Wahlberechtigte mit Sperrvermerk (A2)',\n",
       "       'Wahlberechtigte nach § 24 Abs. 2 EuWO (A3)', 'Wähler (B)',\n",
       "       'Wähler mit Wahlschein (B1)', 'Ungültig', 'Gültig', 'CDU', 'SPD',\n",
       "       'GRÜNE', 'DIE LINKE', 'AfD', 'CSU', 'FDP', 'FREIE WÄHLER', 'PIRATEN',\n",
       "       'Tierschutzpartei', 'NPD', 'FAMILIE', 'ÖDP', 'Die PARTEI',\n",
       "       'Volksabstimmung', 'BP', 'DKP', 'MLPD', 'SGP', 'TIERSCHUTZ hier!',\n",
       "       'Tierschutzallianz', 'Bündnis C', 'BIG', 'BGE', 'DIE DIREKTE!',\n",
       "       'DiEM25', 'III. Weg', 'Die Grauen', 'DIE RECHTE', 'DIE VIOLETTEN',\n",
       "       'LIEBE', 'DIE FRAUEN', 'Graue Panther', 'LKR', 'MENSCHLICHE WELT', 'NL',\n",
       "       'ÖkoLinX', 'Die Humanisten', 'PARTEI FÜR DIE TIERE',\n",
       "       'Gesundheitsforschung', 'Volt', 'Ungekürzte Wahlbezirksbezeichnung'],\n",
       "      dtype='object')"
      ]
     },
     "execution_count": 5,
     "metadata": {},
     "output_type": "execute_result"
    }
   ],
   "source": [
    "df.columns"
   ]
  },
  {
   "cell_type": "code",
   "execution_count": 6,
   "metadata": {},
   "outputs": [
    {
     "data": {
      "text/plain": [
       "88"
      ]
     },
     "execution_count": 6,
     "metadata": {},
     "output_type": "execute_result"
    }
   ],
   "source": [
    "df.Kreis.nunique()"
   ]
  },
  {
   "cell_type": "code",
   "execution_count": 121,
   "metadata": {},
   "outputs": [],
   "source": [
    "lb = pd.read_csv(\"./Files/ew19_wbz/ew19_wbz_leitband.csv\", skiprows=4, delimiter=';', encoding=\"ISO-8859-1\")"
   ]
  },
  {
   "cell_type": "code",
   "execution_count": 124,
   "metadata": {},
   "outputs": [
    {
     "data": {
      "text/plain": [
       "(5, 27, 12461, 2371)"
      ]
     },
     "execution_count": 124,
     "metadata": {},
     "output_type": "execute_result"
    }
   ],
   "source": [
    "lb.Satzart.nunique(), lb.Textkennzeichen.nunique(), lb.Name.nunique(), df['Wahlberechtigte (A)'].nunique()"
   ]
  },
  {
   "cell_type": "code",
   "execution_count": 154,
   "metadata": {},
   "outputs": [
    {
     "data": {
      "text/html": [
       "<div>\n",
       "<style scoped>\n",
       "    .dataframe tbody tr th:only-of-type {\n",
       "        vertical-align: middle;\n",
       "    }\n",
       "\n",
       "    .dataframe tbody tr th {\n",
       "        vertical-align: top;\n",
       "    }\n",
       "\n",
       "    .dataframe thead th {\n",
       "        text-align: right;\n",
       "    }\n",
       "</style>\n",
       "<table border=\"1\" class=\"dataframe\">\n",
       "  <thead>\n",
       "    <tr style=\"text-align: right;\">\n",
       "      <th></th>\n",
       "      <th>Satzart</th>\n",
       "      <th>Land</th>\n",
       "      <th>Regierungsbezirk</th>\n",
       "      <th>Kreis</th>\n",
       "      <th>Verbandsgemeinde</th>\n",
       "      <th>Gemeinde</th>\n",
       "      <th>Kennziffer Briefwahlzugehörigkeit</th>\n",
       "      <th>Name</th>\n",
       "      <th>Textkennzeichen</th>\n",
       "    </tr>\n",
       "  </thead>\n",
       "  <tbody>\n",
       "    <tr>\n",
       "      <th>0</th>\n",
       "      <td>10</td>\n",
       "      <td>1</td>\n",
       "      <td>0</td>\n",
       "      <td>0</td>\n",
       "      <td>0</td>\n",
       "      <td>0</td>\n",
       "      <td>0</td>\n",
       "      <td>Schleswig-Holstein</td>\n",
       "      <td>11</td>\n",
       "    </tr>\n",
       "    <tr>\n",
       "      <th>1</th>\n",
       "      <td>10</td>\n",
       "      <td>2</td>\n",
       "      <td>0</td>\n",
       "      <td>0</td>\n",
       "      <td>0</td>\n",
       "      <td>0</td>\n",
       "      <td>0</td>\n",
       "      <td>Hamburg</td>\n",
       "      <td>11</td>\n",
       "    </tr>\n",
       "    <tr>\n",
       "      <th>2</th>\n",
       "      <td>10</td>\n",
       "      <td>3</td>\n",
       "      <td>0</td>\n",
       "      <td>0</td>\n",
       "      <td>0</td>\n",
       "      <td>0</td>\n",
       "      <td>0</td>\n",
       "      <td>Niedersachsen</td>\n",
       "      <td>11</td>\n",
       "    </tr>\n",
       "    <tr>\n",
       "      <th>3</th>\n",
       "      <td>10</td>\n",
       "      <td>4</td>\n",
       "      <td>0</td>\n",
       "      <td>0</td>\n",
       "      <td>0</td>\n",
       "      <td>0</td>\n",
       "      <td>0</td>\n",
       "      <td>Bremen</td>\n",
       "      <td>11</td>\n",
       "    </tr>\n",
       "    <tr>\n",
       "      <th>4</th>\n",
       "      <td>10</td>\n",
       "      <td>5</td>\n",
       "      <td>0</td>\n",
       "      <td>0</td>\n",
       "      <td>0</td>\n",
       "      <td>0</td>\n",
       "      <td>0</td>\n",
       "      <td>Nordrhein-Westfalen</td>\n",
       "      <td>11</td>\n",
       "    </tr>\n",
       "    <tr>\n",
       "      <th>5</th>\n",
       "      <td>10</td>\n",
       "      <td>6</td>\n",
       "      <td>0</td>\n",
       "      <td>0</td>\n",
       "      <td>0</td>\n",
       "      <td>0</td>\n",
       "      <td>0</td>\n",
       "      <td>Hessen</td>\n",
       "      <td>11</td>\n",
       "    </tr>\n",
       "    <tr>\n",
       "      <th>6</th>\n",
       "      <td>10</td>\n",
       "      <td>7</td>\n",
       "      <td>0</td>\n",
       "      <td>0</td>\n",
       "      <td>0</td>\n",
       "      <td>0</td>\n",
       "      <td>0</td>\n",
       "      <td>Rheinland-Pfalz</td>\n",
       "      <td>11</td>\n",
       "    </tr>\n",
       "    <tr>\n",
       "      <th>7</th>\n",
       "      <td>10</td>\n",
       "      <td>8</td>\n",
       "      <td>0</td>\n",
       "      <td>0</td>\n",
       "      <td>0</td>\n",
       "      <td>0</td>\n",
       "      <td>0</td>\n",
       "      <td>Baden-Württemberg</td>\n",
       "      <td>11</td>\n",
       "    </tr>\n",
       "    <tr>\n",
       "      <th>8</th>\n",
       "      <td>10</td>\n",
       "      <td>9</td>\n",
       "      <td>0</td>\n",
       "      <td>0</td>\n",
       "      <td>0</td>\n",
       "      <td>0</td>\n",
       "      <td>0</td>\n",
       "      <td>Bayern</td>\n",
       "      <td>11</td>\n",
       "    </tr>\n",
       "    <tr>\n",
       "      <th>9</th>\n",
       "      <td>10</td>\n",
       "      <td>10</td>\n",
       "      <td>0</td>\n",
       "      <td>0</td>\n",
       "      <td>0</td>\n",
       "      <td>0</td>\n",
       "      <td>0</td>\n",
       "      <td>Saarland</td>\n",
       "      <td>11</td>\n",
       "    </tr>\n",
       "    <tr>\n",
       "      <th>10</th>\n",
       "      <td>10</td>\n",
       "      <td>11</td>\n",
       "      <td>0</td>\n",
       "      <td>0</td>\n",
       "      <td>0</td>\n",
       "      <td>0</td>\n",
       "      <td>0</td>\n",
       "      <td>Berlin</td>\n",
       "      <td>11</td>\n",
       "    </tr>\n",
       "    <tr>\n",
       "      <th>11</th>\n",
       "      <td>10</td>\n",
       "      <td>12</td>\n",
       "      <td>0</td>\n",
       "      <td>0</td>\n",
       "      <td>0</td>\n",
       "      <td>0</td>\n",
       "      <td>0</td>\n",
       "      <td>Brandenburg</td>\n",
       "      <td>11</td>\n",
       "    </tr>\n",
       "    <tr>\n",
       "      <th>12</th>\n",
       "      <td>10</td>\n",
       "      <td>13</td>\n",
       "      <td>0</td>\n",
       "      <td>0</td>\n",
       "      <td>0</td>\n",
       "      <td>0</td>\n",
       "      <td>0</td>\n",
       "      <td>Mecklenburg-Vorpommern</td>\n",
       "      <td>11</td>\n",
       "    </tr>\n",
       "    <tr>\n",
       "      <th>13</th>\n",
       "      <td>10</td>\n",
       "      <td>14</td>\n",
       "      <td>0</td>\n",
       "      <td>0</td>\n",
       "      <td>0</td>\n",
       "      <td>0</td>\n",
       "      <td>0</td>\n",
       "      <td>Sachsen</td>\n",
       "      <td>11</td>\n",
       "    </tr>\n",
       "    <tr>\n",
       "      <th>14</th>\n",
       "      <td>10</td>\n",
       "      <td>15</td>\n",
       "      <td>0</td>\n",
       "      <td>0</td>\n",
       "      <td>0</td>\n",
       "      <td>0</td>\n",
       "      <td>0</td>\n",
       "      <td>Sachsen-Anhalt</td>\n",
       "      <td>11</td>\n",
       "    </tr>\n",
       "    <tr>\n",
       "      <th>15</th>\n",
       "      <td>10</td>\n",
       "      <td>16</td>\n",
       "      <td>0</td>\n",
       "      <td>0</td>\n",
       "      <td>0</td>\n",
       "      <td>0</td>\n",
       "      <td>0</td>\n",
       "      <td>Thüringen</td>\n",
       "      <td>11</td>\n",
       "    </tr>\n",
       "    <tr>\n",
       "      <th>16</th>\n",
       "      <td>20</td>\n",
       "      <td>3</td>\n",
       "      <td>1</td>\n",
       "      <td>0</td>\n",
       "      <td>0</td>\n",
       "      <td>0</td>\n",
       "      <td>0</td>\n",
       "      <td>Statistische Region Braunschweig</td>\n",
       "      <td>21</td>\n",
       "    </tr>\n",
       "    <tr>\n",
       "      <th>17</th>\n",
       "      <td>20</td>\n",
       "      <td>3</td>\n",
       "      <td>2</td>\n",
       "      <td>0</td>\n",
       "      <td>0</td>\n",
       "      <td>0</td>\n",
       "      <td>0</td>\n",
       "      <td>Statistische Region Hannover</td>\n",
       "      <td>21</td>\n",
       "    </tr>\n",
       "    <tr>\n",
       "      <th>18</th>\n",
       "      <td>20</td>\n",
       "      <td>3</td>\n",
       "      <td>3</td>\n",
       "      <td>0</td>\n",
       "      <td>0</td>\n",
       "      <td>0</td>\n",
       "      <td>0</td>\n",
       "      <td>Statistische Region Lüneburg</td>\n",
       "      <td>21</td>\n",
       "    </tr>\n",
       "    <tr>\n",
       "      <th>19</th>\n",
       "      <td>20</td>\n",
       "      <td>3</td>\n",
       "      <td>4</td>\n",
       "      <td>0</td>\n",
       "      <td>0</td>\n",
       "      <td>0</td>\n",
       "      <td>0</td>\n",
       "      <td>Statistische Region Weser-Ems</td>\n",
       "      <td>21</td>\n",
       "    </tr>\n",
       "    <tr>\n",
       "      <th>20</th>\n",
       "      <td>20</td>\n",
       "      <td>5</td>\n",
       "      <td>1</td>\n",
       "      <td>0</td>\n",
       "      <td>0</td>\n",
       "      <td>0</td>\n",
       "      <td>0</td>\n",
       "      <td>Reg.-Bez. Düsseldorf</td>\n",
       "      <td>21</td>\n",
       "    </tr>\n",
       "    <tr>\n",
       "      <th>21</th>\n",
       "      <td>20</td>\n",
       "      <td>5</td>\n",
       "      <td>3</td>\n",
       "      <td>0</td>\n",
       "      <td>0</td>\n",
       "      <td>0</td>\n",
       "      <td>0</td>\n",
       "      <td>Reg.-Bez. Köln</td>\n",
       "      <td>21</td>\n",
       "    </tr>\n",
       "    <tr>\n",
       "      <th>22</th>\n",
       "      <td>20</td>\n",
       "      <td>5</td>\n",
       "      <td>5</td>\n",
       "      <td>0</td>\n",
       "      <td>0</td>\n",
       "      <td>0</td>\n",
       "      <td>0</td>\n",
       "      <td>Reg.-Bez. Münster</td>\n",
       "      <td>21</td>\n",
       "    </tr>\n",
       "    <tr>\n",
       "      <th>23</th>\n",
       "      <td>20</td>\n",
       "      <td>5</td>\n",
       "      <td>7</td>\n",
       "      <td>0</td>\n",
       "      <td>0</td>\n",
       "      <td>0</td>\n",
       "      <td>0</td>\n",
       "      <td>Reg.-Bez. Detmold</td>\n",
       "      <td>21</td>\n",
       "    </tr>\n",
       "    <tr>\n",
       "      <th>24</th>\n",
       "      <td>20</td>\n",
       "      <td>5</td>\n",
       "      <td>9</td>\n",
       "      <td>0</td>\n",
       "      <td>0</td>\n",
       "      <td>0</td>\n",
       "      <td>0</td>\n",
       "      <td>Reg.-Bez. Arnsberg</td>\n",
       "      <td>21</td>\n",
       "    </tr>\n",
       "    <tr>\n",
       "      <th>25</th>\n",
       "      <td>20</td>\n",
       "      <td>6</td>\n",
       "      <td>4</td>\n",
       "      <td>0</td>\n",
       "      <td>0</td>\n",
       "      <td>0</td>\n",
       "      <td>0</td>\n",
       "      <td>Reg.-Bez. Darmstadt</td>\n",
       "      <td>21</td>\n",
       "    </tr>\n",
       "    <tr>\n",
       "      <th>26</th>\n",
       "      <td>20</td>\n",
       "      <td>6</td>\n",
       "      <td>5</td>\n",
       "      <td>0</td>\n",
       "      <td>0</td>\n",
       "      <td>0</td>\n",
       "      <td>0</td>\n",
       "      <td>Reg.-Bez. Gießen</td>\n",
       "      <td>21</td>\n",
       "    </tr>\n",
       "    <tr>\n",
       "      <th>27</th>\n",
       "      <td>20</td>\n",
       "      <td>6</td>\n",
       "      <td>6</td>\n",
       "      <td>0</td>\n",
       "      <td>0</td>\n",
       "      <td>0</td>\n",
       "      <td>0</td>\n",
       "      <td>Reg.-Bez. Kassel</td>\n",
       "      <td>21</td>\n",
       "    </tr>\n",
       "    <tr>\n",
       "      <th>28</th>\n",
       "      <td>20</td>\n",
       "      <td>7</td>\n",
       "      <td>1</td>\n",
       "      <td>0</td>\n",
       "      <td>0</td>\n",
       "      <td>0</td>\n",
       "      <td>0</td>\n",
       "      <td>früher: Reg.-Bez. Koblenz</td>\n",
       "      <td>21</td>\n",
       "    </tr>\n",
       "    <tr>\n",
       "      <th>29</th>\n",
       "      <td>20</td>\n",
       "      <td>7</td>\n",
       "      <td>2</td>\n",
       "      <td>0</td>\n",
       "      <td>0</td>\n",
       "      <td>0</td>\n",
       "      <td>0</td>\n",
       "      <td>früher: Reg.-Bez. Trier</td>\n",
       "      <td>21</td>\n",
       "    </tr>\n",
       "  </tbody>\n",
       "</table>\n",
       "</div>"
      ],
      "text/plain": [
       "    Satzart  Land  Regierungsbezirk  Kreis  Verbandsgemeinde  Gemeinde  \\\n",
       "0        10     1                 0      0                 0         0   \n",
       "1        10     2                 0      0                 0         0   \n",
       "2        10     3                 0      0                 0         0   \n",
       "3        10     4                 0      0                 0         0   \n",
       "4        10     5                 0      0                 0         0   \n",
       "5        10     6                 0      0                 0         0   \n",
       "6        10     7                 0      0                 0         0   \n",
       "7        10     8                 0      0                 0         0   \n",
       "8        10     9                 0      0                 0         0   \n",
       "9        10    10                 0      0                 0         0   \n",
       "10       10    11                 0      0                 0         0   \n",
       "11       10    12                 0      0                 0         0   \n",
       "12       10    13                 0      0                 0         0   \n",
       "13       10    14                 0      0                 0         0   \n",
       "14       10    15                 0      0                 0         0   \n",
       "15       10    16                 0      0                 0         0   \n",
       "16       20     3                 1      0                 0         0   \n",
       "17       20     3                 2      0                 0         0   \n",
       "18       20     3                 3      0                 0         0   \n",
       "19       20     3                 4      0                 0         0   \n",
       "20       20     5                 1      0                 0         0   \n",
       "21       20     5                 3      0                 0         0   \n",
       "22       20     5                 5      0                 0         0   \n",
       "23       20     5                 7      0                 0         0   \n",
       "24       20     5                 9      0                 0         0   \n",
       "25       20     6                 4      0                 0         0   \n",
       "26       20     6                 5      0                 0         0   \n",
       "27       20     6                 6      0                 0         0   \n",
       "28       20     7                 1      0                 0         0   \n",
       "29       20     7                 2      0                 0         0   \n",
       "\n",
       "    Kennziffer Briefwahlzugehörigkeit                              Name  \\\n",
       "0                                   0                Schleswig-Holstein   \n",
       "1                                   0                           Hamburg   \n",
       "2                                   0                     Niedersachsen   \n",
       "3                                   0                            Bremen   \n",
       "4                                   0               Nordrhein-Westfalen   \n",
       "5                                   0                            Hessen   \n",
       "6                                   0                   Rheinland-Pfalz   \n",
       "7                                   0                 Baden-Württemberg   \n",
       "8                                   0                            Bayern   \n",
       "9                                   0                          Saarland   \n",
       "10                                  0                            Berlin   \n",
       "11                                  0                       Brandenburg   \n",
       "12                                  0            Mecklenburg-Vorpommern   \n",
       "13                                  0                           Sachsen   \n",
       "14                                  0                    Sachsen-Anhalt   \n",
       "15                                  0                         Thüringen   \n",
       "16                                  0  Statistische Region Braunschweig   \n",
       "17                                  0      Statistische Region Hannover   \n",
       "18                                  0      Statistische Region Lüneburg   \n",
       "19                                  0     Statistische Region Weser-Ems   \n",
       "20                                  0              Reg.-Bez. Düsseldorf   \n",
       "21                                  0                    Reg.-Bez. Köln   \n",
       "22                                  0                 Reg.-Bez. Münster   \n",
       "23                                  0                 Reg.-Bez. Detmold   \n",
       "24                                  0                Reg.-Bez. Arnsberg   \n",
       "25                                  0               Reg.-Bez. Darmstadt   \n",
       "26                                  0                  Reg.-Bez. Gießen   \n",
       "27                                  0                  Reg.-Bez. Kassel   \n",
       "28                                  0         früher: Reg.-Bez. Koblenz   \n",
       "29                                  0           früher: Reg.-Bez. Trier   \n",
       "\n",
       "    Textkennzeichen  \n",
       "0                11  \n",
       "1                11  \n",
       "2                11  \n",
       "3                11  \n",
       "4                11  \n",
       "5                11  \n",
       "6                11  \n",
       "7                11  \n",
       "8                11  \n",
       "9                11  \n",
       "10               11  \n",
       "11               11  \n",
       "12               11  \n",
       "13               11  \n",
       "14               11  \n",
       "15               11  \n",
       "16               21  \n",
       "17               21  \n",
       "18               21  \n",
       "19               21  \n",
       "20               21  \n",
       "21               21  \n",
       "22               21  \n",
       "23               21  \n",
       "24               21  \n",
       "25               21  \n",
       "26               21  \n",
       "27               21  \n",
       "28               21  \n",
       "29               21  "
      ]
     },
     "execution_count": 154,
     "metadata": {},
     "output_type": "execute_result"
    }
   ],
   "source": [
    "lb.head(30)"
   ]
  },
  {
   "cell_type": "code",
   "execution_count": 180,
   "metadata": {},
   "outputs": [
    {
     "data": {
      "text/plain": [
       "nunique    2\n",
       "dtype: int64"
      ]
     },
     "execution_count": 180,
     "metadata": {},
     "output_type": "execute_result"
    }
   ],
   "source": [
    "lb.groupby(['Land', 'Regierungsbezirk', 'Kreis', 'Verbandsgemeinde', 'Gemeinde', 'Kennziffer Briefwahlzugehörigkeit'])['Name'].agg(['nunique'])"
   ]
  },
  {
   "cell_type": "code",
   "execution_count": null,
   "metadata": {},
   "outputs": [],
   "source": []
  },
  {
   "cell_type": "code",
   "execution_count": 171,
   "metadata": {},
   "outputs": [
    {
     "data": {
      "text/plain": [
       "12461"
      ]
     },
     "execution_count": 171,
     "metadata": {},
     "output_type": "execute_result"
    }
   ],
   "source": [
    "lb['Name'].nunique()"
   ]
  },
  {
   "cell_type": "code",
   "execution_count": 169,
   "metadata": {},
   "outputs": [
    {
     "data": {
      "text/plain": [
       "5452"
      ]
     },
     "execution_count": 169,
     "metadata": {},
     "output_type": "execute_result"
    }
   ],
   "source": [
    "len(lb[['Land', 'Regierungsbezirk', 'Kreis', 'Verbandsgemeinde', 'Gemeinde','Kennziffer Briefwahlzugehörigkeit']].drop_duplicates())"
   ]
  },
  {
   "cell_type": "code",
   "execution_count": 181,
   "metadata": {},
   "outputs": [
    {
     "data": {
      "text/plain": [
       "13047"
      ]
     },
     "execution_count": 181,
     "metadata": {},
     "output_type": "execute_result"
    }
   ],
   "source": [
    "len(lb.groupby(['Land', 'Regierungsbezirk', 'Kreis', 'Verbandsgemeinde', 'Gemeinde','Kennziffer Briefwahlzugehörigkeit']))"
   ]
  },
  {
   "cell_type": "code",
   "execution_count": 153,
   "metadata": {},
   "outputs": [
    {
     "data": {
      "text/plain": [
       "array([ 1,  2,  3,  4,  5,  6,  7,  8,  9, 10, 11, 12, 13, 14, 15, 16])"
      ]
     },
     "execution_count": 153,
     "metadata": {},
     "output_type": "execute_result"
    }
   ],
   "source": [
    "lb.Land.unique()"
   ]
  },
  {
   "cell_type": "code",
   "execution_count": 126,
   "metadata": {},
   "outputs": [
    {
     "data": {
      "text/plain": [
       "(13047, 13168)"
      ]
     },
     "execution_count": 126,
     "metadata": {},
     "output_type": "execute_result"
    }
   ],
   "source": [
    "len(lb[['Land', 'Regierungsbezirk', 'Kreis', 'Verbandsgemeinde', 'Gemeinde', 'Kennziffer Briefwahlzugehörigkeit']].drop_duplicates()), len(lb.drop_duplicates())"
   ]
  },
  {
   "cell_type": "code",
   "execution_count": 127,
   "metadata": {},
   "outputs": [
    {
     "data": {
      "text/plain": [
       "88"
      ]
     },
     "execution_count": 127,
     "metadata": {},
     "output_type": "execute_result"
    }
   ],
   "source": [
    "lb.Kreis.nunique()"
   ]
  },
  {
   "cell_type": "code",
   "execution_count": 11,
   "metadata": {},
   "outputs": [
    {
     "data": {
      "text/plain": [
       "12461"
      ]
     },
     "execution_count": 11,
     "metadata": {},
     "output_type": "execute_result"
    }
   ],
   "source": [
    "lb.Name.nunique()"
   ]
  },
  {
   "cell_type": "code",
   "execution_count": 128,
   "metadata": {},
   "outputs": [
    {
     "data": {
      "text/html": [
       "<div>\n",
       "<style scoped>\n",
       "    .dataframe tbody tr th:only-of-type {\n",
       "        vertical-align: middle;\n",
       "    }\n",
       "\n",
       "    .dataframe tbody tr th {\n",
       "        vertical-align: top;\n",
       "    }\n",
       "\n",
       "    .dataframe thead th {\n",
       "        text-align: right;\n",
       "    }\n",
       "</style>\n",
       "<table border=\"1\" class=\"dataframe\">\n",
       "  <thead>\n",
       "    <tr style=\"text-align: right;\">\n",
       "      <th></th>\n",
       "      <th>Satzart</th>\n",
       "      <th>Land</th>\n",
       "      <th>Regierungsbezirk</th>\n",
       "      <th>Kreis</th>\n",
       "      <th>Verbandsgemeinde</th>\n",
       "      <th>Gemeinde</th>\n",
       "      <th>Kennziffer Briefwahlzugehörigkeit</th>\n",
       "      <th>Name</th>\n",
       "      <th>Textkennzeichen</th>\n",
       "    </tr>\n",
       "  </thead>\n",
       "  <tbody>\n",
       "    <tr>\n",
       "      <th>912</th>\n",
       "      <td>50</td>\n",
       "      <td>8</td>\n",
       "      <td>2</td>\n",
       "      <td>26</td>\n",
       "      <td>5006</td>\n",
       "      <td>0</td>\n",
       "      <td>0</td>\n",
       "      <td>GVV Rauenberg</td>\n",
       "      <td>56</td>\n",
       "    </tr>\n",
       "  </tbody>\n",
       "</table>\n",
       "</div>"
      ],
      "text/plain": [
       "     Satzart  Land  Regierungsbezirk  Kreis  Verbandsgemeinde  Gemeinde  \\\n",
       "912       50     8                 2     26              5006         0   \n",
       "\n",
       "     Kennziffer Briefwahlzugehörigkeit           Name  Textkennzeichen  \n",
       "912                                  0  GVV Rauenberg               56  "
      ]
     },
     "execution_count": 128,
     "metadata": {},
     "output_type": "execute_result"
    }
   ],
   "source": [
    "lb[lb.Name=='GVV Rauenberg']"
   ]
  },
  {
   "cell_type": "markdown",
   "metadata": {},
   "source": [
    "---"
   ]
  },
  {
   "cell_type": "code",
   "execution_count": 115,
   "metadata": {},
   "outputs": [
    {
     "data": {
      "text/plain": [
       "Index(['Land', 'Regierungsbezirk', 'Kreis', 'Verbandsgemeinde', 'Gemeinde',\n",
       "       'Kennziffer Briefwahlzugehörigkeit', 'Wahlbezirk', 'Bezirksart',\n",
       "       'Wahlberechtigte (A)', 'Wahlberechtigte ohne Sperrvermerk (A1)',\n",
       "       'Wahlberechtigte mit Sperrvermerk (A2)',\n",
       "       'Wahlberechtigte nach § 24 Abs. 2 EuWO (A3)', 'Wähler (B)',\n",
       "       'Wähler mit Wahlschein (B1)', 'Ungültig', 'Gültig', 'CDU', 'SPD',\n",
       "       'GRÜNE', 'DIE LINKE', 'AfD', 'CSU', 'FDP', 'FREIE WÄHLER', 'PIRATEN',\n",
       "       'Tierschutzpartei', 'NPD', 'FAMILIE', 'ÖDP', 'Die PARTEI',\n",
       "       'Volksabstimmung', 'BP', 'DKP', 'MLPD', 'SGP', 'TIERSCHUTZ hier!',\n",
       "       'Tierschutzallianz', 'Bündnis C', 'BIG', 'BGE', 'DIE DIREKTE!',\n",
       "       'DiEM25', 'III. Weg', 'Die Grauen', 'DIE RECHTE', 'DIE VIOLETTEN',\n",
       "       'LIEBE', 'DIE FRAUEN', 'Graue Panther', 'LKR', 'MENSCHLICHE WELT', 'NL',\n",
       "       'ÖkoLinX', 'Die Humanisten', 'PARTEI FÜR DIE TIERE',\n",
       "       'Gesundheitsforschung', 'Volt', 'Ungekürzte Wahlbezirksbezeichnung'],\n",
       "      dtype='object')"
      ]
     },
     "execution_count": 115,
     "metadata": {},
     "output_type": "execute_result"
    }
   ],
   "source": [
    "df.columns"
   ]
  },
  {
   "cell_type": "code",
   "execution_count": 116,
   "metadata": {},
   "outputs": [
    {
     "data": {
      "text/plain": [
       "Index(['Satzart', 'Land', 'Regierungsbezirk', 'Kreis', 'Verbandsgemeinde',\n",
       "       'Gemeinde', 'Kennziffer Briefwahlzugehörigkeit', 'Name',\n",
       "       'Textkennzeichen'],\n",
       "      dtype='object')"
      ]
     },
     "execution_count": 116,
     "metadata": {},
     "output_type": "execute_result"
    }
   ],
   "source": [
    "lb.columns"
   ]
  },
  {
   "cell_type": "markdown",
   "metadata": {},
   "source": [
    "---"
   ]
  },
  {
   "cell_type": "markdown",
   "metadata": {},
   "source": [
    "### Variables to make the merge, sanity check"
   ]
  },
  {
   "cell_type": "code",
   "execution_count": 43,
   "metadata": {},
   "outputs": [
    {
     "data": {
      "text/plain": [
       "True"
      ]
     },
     "execution_count": 43,
     "metadata": {},
     "output_type": "execute_result"
    }
   ],
   "source": [
    "df.Land.unique().sort() == lb.Land.unique().sort()"
   ]
  },
  {
   "cell_type": "code",
   "execution_count": 44,
   "metadata": {},
   "outputs": [
    {
     "data": {
      "text/plain": [
       "True"
      ]
     },
     "execution_count": 44,
     "metadata": {},
     "output_type": "execute_result"
    }
   ],
   "source": [
    "df.Regierungsbezirk.unique().sort() == lb.Regierungsbezirk.unique().sort()"
   ]
  },
  {
   "cell_type": "code",
   "execution_count": 45,
   "metadata": {},
   "outputs": [
    {
     "data": {
      "text/plain": [
       "True"
      ]
     },
     "execution_count": 45,
     "metadata": {},
     "output_type": "execute_result"
    }
   ],
   "source": [
    "df.Kreis.unique().sort() == lb.Kreis.unique().sort()"
   ]
  },
  {
   "cell_type": "code",
   "execution_count": 54,
   "metadata": {},
   "outputs": [
    {
     "data": {
      "text/plain": [
       "True"
      ]
     },
     "execution_count": 54,
     "metadata": {},
     "output_type": "execute_result"
    }
   ],
   "source": [
    "np.all(np.sort(df.Verbandsgemeinde.unique()) == np.sort(lb.Verbandsgemeinde.unique()))"
   ]
  },
  {
   "cell_type": "code",
   "execution_count": 55,
   "metadata": {},
   "outputs": [
    {
     "data": {
      "text/plain": [
       "True"
      ]
     },
     "execution_count": 55,
     "metadata": {},
     "output_type": "execute_result"
    }
   ],
   "source": [
    "np.all(np.sort(df.Gemeinde.unique()) == np.sort(lb.Gemeinde.unique()))"
   ]
  },
  {
   "cell_type": "code",
   "execution_count": 149,
   "metadata": {},
   "outputs": [
    {
     "data": {
      "text/html": [
       "<div>\n",
       "<style scoped>\n",
       "    .dataframe tbody tr th:only-of-type {\n",
       "        vertical-align: middle;\n",
       "    }\n",
       "\n",
       "    .dataframe tbody tr th {\n",
       "        vertical-align: top;\n",
       "    }\n",
       "\n",
       "    .dataframe thead th {\n",
       "        text-align: right;\n",
       "    }\n",
       "</style>\n",
       "<table border=\"1\" class=\"dataframe\">\n",
       "  <thead>\n",
       "    <tr style=\"text-align: right;\">\n",
       "      <th></th>\n",
       "      <th>Land</th>\n",
       "      <th>Regierungsbezirk</th>\n",
       "      <th>Kreis</th>\n",
       "      <th>Verbandsgemeinde</th>\n",
       "      <th>Kennziffer Briefwahlzugehörigkeit</th>\n",
       "      <th>Name</th>\n",
       "    </tr>\n",
       "  </thead>\n",
       "  <tbody>\n",
       "    <tr>\n",
       "      <th>0</th>\n",
       "      <td>1</td>\n",
       "      <td>0</td>\n",
       "      <td>0</td>\n",
       "      <td>0</td>\n",
       "      <td>0</td>\n",
       "      <td>Schleswig-Holstein</td>\n",
       "    </tr>\n",
       "    <tr>\n",
       "      <th>1</th>\n",
       "      <td>2</td>\n",
       "      <td>0</td>\n",
       "      <td>0</td>\n",
       "      <td>0</td>\n",
       "      <td>0</td>\n",
       "      <td>Hamburg</td>\n",
       "    </tr>\n",
       "    <tr>\n",
       "      <th>2</th>\n",
       "      <td>3</td>\n",
       "      <td>0</td>\n",
       "      <td>0</td>\n",
       "      <td>0</td>\n",
       "      <td>0</td>\n",
       "      <td>Niedersachsen</td>\n",
       "    </tr>\n",
       "    <tr>\n",
       "      <th>3</th>\n",
       "      <td>4</td>\n",
       "      <td>0</td>\n",
       "      <td>0</td>\n",
       "      <td>0</td>\n",
       "      <td>0</td>\n",
       "      <td>Bremen</td>\n",
       "    </tr>\n",
       "    <tr>\n",
       "      <th>4</th>\n",
       "      <td>5</td>\n",
       "      <td>0</td>\n",
       "      <td>0</td>\n",
       "      <td>0</td>\n",
       "      <td>0</td>\n",
       "      <td>Nordrhein-Westfalen</td>\n",
       "    </tr>\n",
       "  </tbody>\n",
       "</table>\n",
       "</div>"
      ],
      "text/plain": [
       "   Land  Regierungsbezirk  Kreis  Verbandsgemeinde  \\\n",
       "0     1                 0      0                 0   \n",
       "1     2                 0      0                 0   \n",
       "2     3                 0      0                 0   \n",
       "3     4                 0      0                 0   \n",
       "4     5                 0      0                 0   \n",
       "\n",
       "   Kennziffer Briefwahlzugehörigkeit                 Name  \n",
       "0                                  0   Schleswig-Holstein  \n",
       "1                                  0              Hamburg  \n",
       "2                                  0        Niedersachsen  \n",
       "3                                  0               Bremen  \n",
       "4                                  0  Nordrhein-Westfalen  "
      ]
     },
     "execution_count": 149,
     "metadata": {},
     "output_type": "execute_result"
    }
   ],
   "source": [
    "#minilb = lb[['Land', 'Regierungsbezirk', 'Kreis', 'Verbandsgemeinde', 'Gemeinde', 'Kennziffer Briefwahlzugehörigkeit', 'Name']]\n",
    "minilb = lb[['Land', 'Regierungsbezirk', 'Kreis', 'Verbandsgemeinde', 'Kennziffer Briefwahlzugehörigkeit', 'Name']]\n",
    "\n",
    "minilb.head()"
   ]
  },
  {
   "cell_type": "code",
   "execution_count": 150,
   "metadata": {},
   "outputs": [],
   "source": [
    "#udf = pd.merge(df, minilb, on=['Land', 'Regierungsbezirk', 'Kreis', 'Verbandsgemeinde', 'Gemeinde', 'Kennziffer Briefwahlzugehörigkeit'])\n",
    "udf = pd.merge(df, minilb, on=['Land', 'Regierungsbezirk', 'Kreis', 'Verbandsgemeinde', 'Kennziffer Briefwahlzugehörigkeit'])\n",
    "#udf.drop_duplicates(inplace=True)\n",
    "#len(udf), len(df)"
   ]
  },
  {
   "cell_type": "code",
   "execution_count": 151,
   "metadata": {},
   "outputs": [
    {
     "data": {
      "text/plain": [
       "(243075, 86887, 13168)"
      ]
     },
     "execution_count": 151,
     "metadata": {},
     "output_type": "execute_result"
    }
   ],
   "source": [
    "len(udf), len(df), len(lb)"
   ]
  },
  {
   "cell_type": "code",
   "execution_count": 132,
   "metadata": {},
   "outputs": [
    {
     "data": {
      "text/plain": [
       "(249098, 303092)"
      ]
     },
     "execution_count": 132,
     "metadata": {},
     "output_type": "execute_result"
    }
   ],
   "source": [
    "df.Volt.sum(), udf.Volt.sum()"
   ]
  },
  {
   "cell_type": "code",
   "execution_count": 133,
   "metadata": {},
   "outputs": [
    {
     "data": {
      "text/plain": [
       "(13168, 13168)"
      ]
     },
     "execution_count": 133,
     "metadata": {},
     "output_type": "execute_result"
    }
   ],
   "source": [
    "len(lb), len(lb.drop_duplicates())"
   ]
  },
  {
   "cell_type": "code",
   "execution_count": 134,
   "metadata": {},
   "outputs": [
    {
     "data": {
      "text/html": [
       "<div>\n",
       "<style scoped>\n",
       "    .dataframe tbody tr th:only-of-type {\n",
       "        vertical-align: middle;\n",
       "    }\n",
       "\n",
       "    .dataframe tbody tr th {\n",
       "        vertical-align: top;\n",
       "    }\n",
       "\n",
       "    .dataframe thead th {\n",
       "        text-align: right;\n",
       "    }\n",
       "</style>\n",
       "<table border=\"1\" class=\"dataframe\">\n",
       "  <thead>\n",
       "    <tr style=\"text-align: right;\">\n",
       "      <th></th>\n",
       "      <th>Land</th>\n",
       "      <th>Regierungsbezirk</th>\n",
       "      <th>Kreis</th>\n",
       "      <th>Verbandsgemeinde</th>\n",
       "      <th>Gemeinde</th>\n",
       "      <th>Kennziffer Briefwahlzugehörigkeit</th>\n",
       "      <th>Wahlbezirk</th>\n",
       "      <th>Bezirksart</th>\n",
       "      <th>Wahlberechtigte (A)</th>\n",
       "      <th>Wahlberechtigte ohne Sperrvermerk (A1)</th>\n",
       "      <th>...</th>\n",
       "      <th>LKR</th>\n",
       "      <th>MENSCHLICHE WELT</th>\n",
       "      <th>NL</th>\n",
       "      <th>ÖkoLinX</th>\n",
       "      <th>Die Humanisten</th>\n",
       "      <th>PARTEI FÜR DIE TIERE</th>\n",
       "      <th>Gesundheitsforschung</th>\n",
       "      <th>Volt</th>\n",
       "      <th>Ungekürzte Wahlbezirksbezeichnung</th>\n",
       "      <th>Name</th>\n",
       "    </tr>\n",
       "  </thead>\n",
       "  <tbody>\n",
       "    <tr>\n",
       "      <th>0</th>\n",
       "      <td>1</td>\n",
       "      <td>0</td>\n",
       "      <td>3</td>\n",
       "      <td>0</td>\n",
       "      <td>0</td>\n",
       "      <td>0</td>\n",
       "      <td>000608</td>\n",
       "      <td>0</td>\n",
       "      <td>1185</td>\n",
       "      <td>1076</td>\n",
       "      <td>...</td>\n",
       "      <td>0</td>\n",
       "      <td>0</td>\n",
       "      <td>0</td>\n",
       "      <td>0</td>\n",
       "      <td>0</td>\n",
       "      <td>1</td>\n",
       "      <td>1</td>\n",
       "      <td>5</td>\n",
       "      <td>NaN</td>\n",
       "      <td>Lübeck, Hansestadt</td>\n",
       "    </tr>\n",
       "    <tr>\n",
       "      <th>1</th>\n",
       "      <td>1</td>\n",
       "      <td>0</td>\n",
       "      <td>3</td>\n",
       "      <td>0</td>\n",
       "      <td>0</td>\n",
       "      <td>0</td>\n",
       "      <td>000608</td>\n",
       "      <td>0</td>\n",
       "      <td>1185</td>\n",
       "      <td>1076</td>\n",
       "      <td>...</td>\n",
       "      <td>0</td>\n",
       "      <td>0</td>\n",
       "      <td>0</td>\n",
       "      <td>0</td>\n",
       "      <td>0</td>\n",
       "      <td>1</td>\n",
       "      <td>1</td>\n",
       "      <td>5</td>\n",
       "      <td>NaN</td>\n",
       "      <td>Lübeck, Hansestadt</td>\n",
       "    </tr>\n",
       "    <tr>\n",
       "      <th>2</th>\n",
       "      <td>1</td>\n",
       "      <td>0</td>\n",
       "      <td>3</td>\n",
       "      <td>0</td>\n",
       "      <td>0</td>\n",
       "      <td>0</td>\n",
       "      <td>000609</td>\n",
       "      <td>0</td>\n",
       "      <td>636</td>\n",
       "      <td>609</td>\n",
       "      <td>...</td>\n",
       "      <td>0</td>\n",
       "      <td>0</td>\n",
       "      <td>0</td>\n",
       "      <td>1</td>\n",
       "      <td>0</td>\n",
       "      <td>0</td>\n",
       "      <td>0</td>\n",
       "      <td>2</td>\n",
       "      <td>NaN</td>\n",
       "      <td>Lübeck, Hansestadt</td>\n",
       "    </tr>\n",
       "    <tr>\n",
       "      <th>3</th>\n",
       "      <td>1</td>\n",
       "      <td>0</td>\n",
       "      <td>3</td>\n",
       "      <td>0</td>\n",
       "      <td>0</td>\n",
       "      <td>0</td>\n",
       "      <td>000609</td>\n",
       "      <td>0</td>\n",
       "      <td>636</td>\n",
       "      <td>609</td>\n",
       "      <td>...</td>\n",
       "      <td>0</td>\n",
       "      <td>0</td>\n",
       "      <td>0</td>\n",
       "      <td>1</td>\n",
       "      <td>0</td>\n",
       "      <td>0</td>\n",
       "      <td>0</td>\n",
       "      <td>2</td>\n",
       "      <td>NaN</td>\n",
       "      <td>Lübeck, Hansestadt</td>\n",
       "    </tr>\n",
       "    <tr>\n",
       "      <th>4</th>\n",
       "      <td>1</td>\n",
       "      <td>0</td>\n",
       "      <td>3</td>\n",
       "      <td>0</td>\n",
       "      <td>0</td>\n",
       "      <td>0</td>\n",
       "      <td>000610</td>\n",
       "      <td>0</td>\n",
       "      <td>1623</td>\n",
       "      <td>1399</td>\n",
       "      <td>...</td>\n",
       "      <td>0</td>\n",
       "      <td>0</td>\n",
       "      <td>0</td>\n",
       "      <td>0</td>\n",
       "      <td>2</td>\n",
       "      <td>4</td>\n",
       "      <td>1</td>\n",
       "      <td>7</td>\n",
       "      <td>NaN</td>\n",
       "      <td>Lübeck, Hansestadt</td>\n",
       "    </tr>\n",
       "  </tbody>\n",
       "</table>\n",
       "<p>5 rows × 59 columns</p>\n",
       "</div>"
      ],
      "text/plain": [
       "   Land  Regierungsbezirk  Kreis  Verbandsgemeinde  Gemeinde  \\\n",
       "0     1                 0      3                 0         0   \n",
       "1     1                 0      3                 0         0   \n",
       "2     1                 0      3                 0         0   \n",
       "3     1                 0      3                 0         0   \n",
       "4     1                 0      3                 0         0   \n",
       "\n",
       "  Kennziffer Briefwahlzugehörigkeit Wahlbezirk  Bezirksart  \\\n",
       "0                                 0     000608           0   \n",
       "1                                 0     000608           0   \n",
       "2                                 0     000609           0   \n",
       "3                                 0     000609           0   \n",
       "4                                 0     000610           0   \n",
       "\n",
       "   Wahlberechtigte (A)  Wahlberechtigte ohne Sperrvermerk (A1)  ...  LKR  \\\n",
       "0                 1185                                    1076  ...    0   \n",
       "1                 1185                                    1076  ...    0   \n",
       "2                  636                                     609  ...    0   \n",
       "3                  636                                     609  ...    0   \n",
       "4                 1623                                    1399  ...    0   \n",
       "\n",
       "   MENSCHLICHE WELT  NL  ÖkoLinX  Die Humanisten  PARTEI FÜR DIE TIERE  \\\n",
       "0                 0   0        0               0                     1   \n",
       "1                 0   0        0               0                     1   \n",
       "2                 0   0        1               0                     0   \n",
       "3                 0   0        1               0                     0   \n",
       "4                 0   0        0               2                     4   \n",
       "\n",
       "   Gesundheitsforschung  Volt  Ungekürzte Wahlbezirksbezeichnung  \\\n",
       "0                     1     5                                NaN   \n",
       "1                     1     5                                NaN   \n",
       "2                     0     2                                NaN   \n",
       "3                     0     2                                NaN   \n",
       "4                     1     7                                NaN   \n",
       "\n",
       "                 Name  \n",
       "0  Lübeck, Hansestadt  \n",
       "1  Lübeck, Hansestadt  \n",
       "2  Lübeck, Hansestadt  \n",
       "3  Lübeck, Hansestadt  \n",
       "4  Lübeck, Hansestadt  \n",
       "\n",
       "[5 rows x 59 columns]"
      ]
     },
     "execution_count": 134,
     "metadata": {},
     "output_type": "execute_result"
    }
   ],
   "source": [
    "udf.head()"
   ]
  },
  {
   "cell_type": "code",
   "execution_count": 135,
   "metadata": {},
   "outputs": [
    {
     "data": {
      "text/plain": [
       "(86887, 88994)"
      ]
     },
     "execution_count": 135,
     "metadata": {},
     "output_type": "execute_result"
    }
   ],
   "source": [
    "len(df), len(udf)"
   ]
  },
  {
   "cell_type": "code",
   "execution_count": 138,
   "metadata": {},
   "outputs": [
    {
     "data": {
      "text/html": [
       "<div>\n",
       "<style scoped>\n",
       "    .dataframe tbody tr th:only-of-type {\n",
       "        vertical-align: middle;\n",
       "    }\n",
       "\n",
       "    .dataframe tbody tr th {\n",
       "        vertical-align: top;\n",
       "    }\n",
       "\n",
       "    .dataframe thead th {\n",
       "        text-align: right;\n",
       "    }\n",
       "</style>\n",
       "<table border=\"1\" class=\"dataframe\">\n",
       "  <thead>\n",
       "    <tr style=\"text-align: right;\">\n",
       "      <th></th>\n",
       "      <th>Satzart</th>\n",
       "      <th>Land</th>\n",
       "      <th>Regierungsbezirk</th>\n",
       "      <th>Kreis</th>\n",
       "      <th>Verbandsgemeinde</th>\n",
       "      <th>Gemeinde</th>\n",
       "      <th>Kennziffer Briefwahlzugehörigkeit</th>\n",
       "      <th>Name</th>\n",
       "      <th>Textkennzeichen</th>\n",
       "    </tr>\n",
       "  </thead>\n",
       "  <tbody>\n",
       "    <tr>\n",
       "      <th>912</th>\n",
       "      <td>50</td>\n",
       "      <td>8</td>\n",
       "      <td>2</td>\n",
       "      <td>26</td>\n",
       "      <td>5006</td>\n",
       "      <td>0</td>\n",
       "      <td>0</td>\n",
       "      <td>GVV Rauenberg</td>\n",
       "      <td>56</td>\n",
       "    </tr>\n",
       "  </tbody>\n",
       "</table>\n",
       "</div>"
      ],
      "text/plain": [
       "     Satzart  Land  Regierungsbezirk  Kreis  Verbandsgemeinde  Gemeinde  \\\n",
       "912       50     8                 2     26              5006         0   \n",
       "\n",
       "     Kennziffer Briefwahlzugehörigkeit           Name  Textkennzeichen  \n",
       "912                                  0  GVV Rauenberg               56  "
      ]
     },
     "execution_count": 138,
     "metadata": {},
     "output_type": "execute_result"
    }
   ],
   "source": [
    "lb[lb.Name=='GVV Rauenberg']"
   ]
  },
  {
   "cell_type": "code",
   "execution_count": 146,
   "metadata": {},
   "outputs": [
    {
     "data": {
      "text/html": [
       "<div>\n",
       "<style scoped>\n",
       "    .dataframe tbody tr th:only-of-type {\n",
       "        vertical-align: middle;\n",
       "    }\n",
       "\n",
       "    .dataframe tbody tr th {\n",
       "        vertical-align: top;\n",
       "    }\n",
       "\n",
       "    .dataframe thead th {\n",
       "        text-align: right;\n",
       "    }\n",
       "</style>\n",
       "<table border=\"1\" class=\"dataframe\">\n",
       "  <thead>\n",
       "    <tr style=\"text-align: right;\">\n",
       "      <th></th>\n",
       "      <th>Land</th>\n",
       "      <th>Regierungsbezirk</th>\n",
       "      <th>Kreis</th>\n",
       "      <th>Verbandsgemeinde</th>\n",
       "      <th>Gemeinde</th>\n",
       "      <th>Kennziffer Briefwahlzugehörigkeit</th>\n",
       "      <th>Wahlbezirk</th>\n",
       "      <th>Bezirksart</th>\n",
       "      <th>Wahlberechtigte (A)</th>\n",
       "      <th>Wahlberechtigte ohne Sperrvermerk (A1)</th>\n",
       "      <th>...</th>\n",
       "      <th>Graue Panther</th>\n",
       "      <th>LKR</th>\n",
       "      <th>MENSCHLICHE WELT</th>\n",
       "      <th>NL</th>\n",
       "      <th>ÖkoLinX</th>\n",
       "      <th>Die Humanisten</th>\n",
       "      <th>PARTEI FÜR DIE TIERE</th>\n",
       "      <th>Gesundheitsforschung</th>\n",
       "      <th>Volt</th>\n",
       "      <th>Ungekürzte Wahlbezirksbezeichnung</th>\n",
       "    </tr>\n",
       "  </thead>\n",
       "  <tbody>\n",
       "    <tr>\n",
       "      <th>46807</th>\n",
       "      <td>8</td>\n",
       "      <td>2</td>\n",
       "      <td>26</td>\n",
       "      <td>5006</td>\n",
       "      <td>54</td>\n",
       "      <td>0</td>\n",
       "      <td>001-01</td>\n",
       "      <td>0</td>\n",
       "      <td>840</td>\n",
       "      <td>633</td>\n",
       "      <td>...</td>\n",
       "      <td>0</td>\n",
       "      <td>0</td>\n",
       "      <td>0</td>\n",
       "      <td>0</td>\n",
       "      <td>0</td>\n",
       "      <td>0</td>\n",
       "      <td>2</td>\n",
       "      <td>0</td>\n",
       "      <td>2</td>\n",
       "      <td>Mühlhausen Rathaus, Schulstr. 6- Zimmer 15</td>\n",
       "    </tr>\n",
       "    <tr>\n",
       "      <th>46808</th>\n",
       "      <td>8</td>\n",
       "      <td>2</td>\n",
       "      <td>26</td>\n",
       "      <td>5006</td>\n",
       "      <td>54</td>\n",
       "      <td>0</td>\n",
       "      <td>001-02</td>\n",
       "      <td>0</td>\n",
       "      <td>768</td>\n",
       "      <td>638</td>\n",
       "      <td>...</td>\n",
       "      <td>0</td>\n",
       "      <td>2</td>\n",
       "      <td>0</td>\n",
       "      <td>0</td>\n",
       "      <td>0</td>\n",
       "      <td>0</td>\n",
       "      <td>0</td>\n",
       "      <td>0</td>\n",
       "      <td>1</td>\n",
       "      <td>Mühlhausen Rathaus, Schulstr. 6- Zimmer 16</td>\n",
       "    </tr>\n",
       "    <tr>\n",
       "      <th>46809</th>\n",
       "      <td>8</td>\n",
       "      <td>2</td>\n",
       "      <td>26</td>\n",
       "      <td>5006</td>\n",
       "      <td>54</td>\n",
       "      <td>0</td>\n",
       "      <td>001-03</td>\n",
       "      <td>0</td>\n",
       "      <td>947</td>\n",
       "      <td>776</td>\n",
       "      <td>...</td>\n",
       "      <td>0</td>\n",
       "      <td>0</td>\n",
       "      <td>0</td>\n",
       "      <td>0</td>\n",
       "      <td>0</td>\n",
       "      <td>0</td>\n",
       "      <td>0</td>\n",
       "      <td>0</td>\n",
       "      <td>0</td>\n",
       "      <td>Mühlhausen Rathaus, Schulstr. 6- Zimmer 12</td>\n",
       "    </tr>\n",
       "    <tr>\n",
       "      <th>46810</th>\n",
       "      <td>8</td>\n",
       "      <td>2</td>\n",
       "      <td>26</td>\n",
       "      <td>5006</td>\n",
       "      <td>54</td>\n",
       "      <td>0</td>\n",
       "      <td>001-04</td>\n",
       "      <td>0</td>\n",
       "      <td>899</td>\n",
       "      <td>735</td>\n",
       "      <td>...</td>\n",
       "      <td>0</td>\n",
       "      <td>1</td>\n",
       "      <td>0</td>\n",
       "      <td>0</td>\n",
       "      <td>1</td>\n",
       "      <td>0</td>\n",
       "      <td>0</td>\n",
       "      <td>0</td>\n",
       "      <td>3</td>\n",
       "      <td>Mühlhausen Bürgerhaus, Schulstraße 6-Mehrzweck...</td>\n",
       "    </tr>\n",
       "    <tr>\n",
       "      <th>46811</th>\n",
       "      <td>8</td>\n",
       "      <td>2</td>\n",
       "      <td>26</td>\n",
       "      <td>5006</td>\n",
       "      <td>54</td>\n",
       "      <td>0</td>\n",
       "      <td>002-05</td>\n",
       "      <td>0</td>\n",
       "      <td>1170</td>\n",
       "      <td>963</td>\n",
       "      <td>...</td>\n",
       "      <td>3</td>\n",
       "      <td>0</td>\n",
       "      <td>0</td>\n",
       "      <td>0</td>\n",
       "      <td>2</td>\n",
       "      <td>1</td>\n",
       "      <td>3</td>\n",
       "      <td>0</td>\n",
       "      <td>14</td>\n",
       "      <td>Mühlhausen Gemeindezentrum Rettigheim, Malsche...</td>\n",
       "    </tr>\n",
       "    <tr>\n",
       "      <th>46812</th>\n",
       "      <td>8</td>\n",
       "      <td>2</td>\n",
       "      <td>26</td>\n",
       "      <td>5006</td>\n",
       "      <td>54</td>\n",
       "      <td>0</td>\n",
       "      <td>002-06</td>\n",
       "      <td>0</td>\n",
       "      <td>759</td>\n",
       "      <td>622</td>\n",
       "      <td>...</td>\n",
       "      <td>2</td>\n",
       "      <td>0</td>\n",
       "      <td>0</td>\n",
       "      <td>0</td>\n",
       "      <td>0</td>\n",
       "      <td>2</td>\n",
       "      <td>3</td>\n",
       "      <td>0</td>\n",
       "      <td>2</td>\n",
       "      <td>Mühlhausen Feuerwehrunterrichtsraum, Gartenstr...</td>\n",
       "    </tr>\n",
       "    <tr>\n",
       "      <th>46813</th>\n",
       "      <td>8</td>\n",
       "      <td>2</td>\n",
       "      <td>26</td>\n",
       "      <td>5006</td>\n",
       "      <td>54</td>\n",
       "      <td>0</td>\n",
       "      <td>003-07</td>\n",
       "      <td>0</td>\n",
       "      <td>913</td>\n",
       "      <td>763</td>\n",
       "      <td>...</td>\n",
       "      <td>0</td>\n",
       "      <td>0</td>\n",
       "      <td>1</td>\n",
       "      <td>0</td>\n",
       "      <td>0</td>\n",
       "      <td>1</td>\n",
       "      <td>2</td>\n",
       "      <td>1</td>\n",
       "      <td>0</td>\n",
       "      <td>Mühlhausen Schloßgebäude Tairnbach, Sternweile...</td>\n",
       "    </tr>\n",
       "    <tr>\n",
       "      <th>46814</th>\n",
       "      <td>8</td>\n",
       "      <td>2</td>\n",
       "      <td>26</td>\n",
       "      <td>5006</td>\n",
       "      <td>54</td>\n",
       "      <td>0</td>\n",
       "      <td>900-01</td>\n",
       "      <td>5</td>\n",
       "      <td>0</td>\n",
       "      <td>0</td>\n",
       "      <td>...</td>\n",
       "      <td>0</td>\n",
       "      <td>3</td>\n",
       "      <td>2</td>\n",
       "      <td>1</td>\n",
       "      <td>0</td>\n",
       "      <td>0</td>\n",
       "      <td>3</td>\n",
       "      <td>2</td>\n",
       "      <td>3</td>\n",
       "      <td>Mühlhausen Rathaus, Schulstraße 6- Zimmer 25 B...</td>\n",
       "    </tr>\n",
       "    <tr>\n",
       "      <th>46815</th>\n",
       "      <td>8</td>\n",
       "      <td>2</td>\n",
       "      <td>26</td>\n",
       "      <td>5006</td>\n",
       "      <td>54</td>\n",
       "      <td>0</td>\n",
       "      <td>900-02</td>\n",
       "      <td>5</td>\n",
       "      <td>0</td>\n",
       "      <td>0</td>\n",
       "      <td>...</td>\n",
       "      <td>0</td>\n",
       "      <td>1</td>\n",
       "      <td>0</td>\n",
       "      <td>0</td>\n",
       "      <td>0</td>\n",
       "      <td>0</td>\n",
       "      <td>3</td>\n",
       "      <td>1</td>\n",
       "      <td>2</td>\n",
       "      <td>Mühlhausen Rathaus, Schulstraße 6- Sitzungssaa...</td>\n",
       "    </tr>\n",
       "  </tbody>\n",
       "</table>\n",
       "<p>9 rows × 58 columns</p>\n",
       "</div>"
      ],
      "text/plain": [
       "       Land  Regierungsbezirk  Kreis  Verbandsgemeinde  Gemeinde  \\\n",
       "46807     8                 2     26              5006        54   \n",
       "46808     8                 2     26              5006        54   \n",
       "46809     8                 2     26              5006        54   \n",
       "46810     8                 2     26              5006        54   \n",
       "46811     8                 2     26              5006        54   \n",
       "46812     8                 2     26              5006        54   \n",
       "46813     8                 2     26              5006        54   \n",
       "46814     8                 2     26              5006        54   \n",
       "46815     8                 2     26              5006        54   \n",
       "\n",
       "      Kennziffer Briefwahlzugehörigkeit Wahlbezirk  Bezirksart  \\\n",
       "46807                                 0     001-01           0   \n",
       "46808                                 0     001-02           0   \n",
       "46809                                 0     001-03           0   \n",
       "46810                                 0     001-04           0   \n",
       "46811                                 0     002-05           0   \n",
       "46812                                 0     002-06           0   \n",
       "46813                                 0     003-07           0   \n",
       "46814                                 0     900-01           5   \n",
       "46815                                 0     900-02           5   \n",
       "\n",
       "       Wahlberechtigte (A)  Wahlberechtigte ohne Sperrvermerk (A1)  ...  \\\n",
       "46807                  840                                     633  ...   \n",
       "46808                  768                                     638  ...   \n",
       "46809                  947                                     776  ...   \n",
       "46810                  899                                     735  ...   \n",
       "46811                 1170                                     963  ...   \n",
       "46812                  759                                     622  ...   \n",
       "46813                  913                                     763  ...   \n",
       "46814                    0                                       0  ...   \n",
       "46815                    0                                       0  ...   \n",
       "\n",
       "       Graue Panther  LKR  MENSCHLICHE WELT  NL  ÖkoLinX  Die Humanisten  \\\n",
       "46807              0    0                 0   0        0               0   \n",
       "46808              0    2                 0   0        0               0   \n",
       "46809              0    0                 0   0        0               0   \n",
       "46810              0    1                 0   0        1               0   \n",
       "46811              3    0                 0   0        2               1   \n",
       "46812              2    0                 0   0        0               2   \n",
       "46813              0    0                 1   0        0               1   \n",
       "46814              0    3                 2   1        0               0   \n",
       "46815              0    1                 0   0        0               0   \n",
       "\n",
       "       PARTEI FÜR DIE TIERE  Gesundheitsforschung  Volt  \\\n",
       "46807                     2                     0     2   \n",
       "46808                     0                     0     1   \n",
       "46809                     0                     0     0   \n",
       "46810                     0                     0     3   \n",
       "46811                     3                     0    14   \n",
       "46812                     3                     0     2   \n",
       "46813                     2                     1     0   \n",
       "46814                     3                     2     3   \n",
       "46815                     3                     1     2   \n",
       "\n",
       "                       Ungekürzte Wahlbezirksbezeichnung  \n",
       "46807         Mühlhausen Rathaus, Schulstr. 6- Zimmer 15  \n",
       "46808         Mühlhausen Rathaus, Schulstr. 6- Zimmer 16  \n",
       "46809         Mühlhausen Rathaus, Schulstr. 6- Zimmer 12  \n",
       "46810  Mühlhausen Bürgerhaus, Schulstraße 6-Mehrzweck...  \n",
       "46811  Mühlhausen Gemeindezentrum Rettigheim, Malsche...  \n",
       "46812  Mühlhausen Feuerwehrunterrichtsraum, Gartenstr...  \n",
       "46813  Mühlhausen Schloßgebäude Tairnbach, Sternweile...  \n",
       "46814  Mühlhausen Rathaus, Schulstraße 6- Zimmer 25 B...  \n",
       "46815  Mühlhausen Rathaus, Schulstraße 6- Sitzungssaa...  \n",
       "\n",
       "[9 rows x 58 columns]"
      ]
     },
     "execution_count": 146,
     "metadata": {},
     "output_type": "execute_result"
    }
   ],
   "source": [
    "df[(df.Land==8) & (df.Regierungsbezirk==2) & (df.Kreis==26) & (df.Verbandsgemeinde==5006) & (df.Gemeinde==54) & (df['Kennziffer Briefwahlzugehörigkeit']==0)]"
   ]
  },
  {
   "cell_type": "code",
   "execution_count": 148,
   "metadata": {},
   "outputs": [
    {
     "data": {
      "text/plain": [
       "2376     54\n",
       "2501     54\n",
       "2621     54\n",
       "2847     54\n",
       "2930     54\n",
       "3221     54\n",
       "3315     54\n",
       "4023     54\n",
       "4230     54\n",
       "5236     54\n",
       "5323     54\n",
       "5441     54\n",
       "5562     54\n",
       "5655     54\n",
       "5818     54\n",
       "6029     54\n",
       "6163     54\n",
       "6350     54\n",
       "6466     54\n",
       "6694     54\n",
       "6924     54\n",
       "7039     54\n",
       "7202     54\n",
       "7297     54\n",
       "7401     54\n",
       "7468     54\n",
       "7527     54\n",
       "7557     54\n",
       "7633     54\n",
       "7953     54\n",
       "8048     54\n",
       "8126     54\n",
       "8213     54\n",
       "8252     54\n",
       "8407     54\n",
       "8533     54\n",
       "11188    54\n",
       "11453    54\n",
       "11552    54\n",
       "11633    54\n",
       "11770    54\n",
       "12587    54\n",
       "12750    54\n",
       "12852    54\n",
       "12979    54\n",
       "13047    54\n",
       "Name: Gemeinde, dtype: int64"
      ]
     },
     "execution_count": 148,
     "metadata": {},
     "output_type": "execute_result"
    }
   ],
   "source": [
    "lb.Gemeinde[lb.Gemeinde==54]"
   ]
  },
  {
   "cell_type": "code",
   "execution_count": null,
   "metadata": {},
   "outputs": [],
   "source": []
  }
 ],
 "metadata": {
  "kernelspec": {
   "display_name": "Python 3",
   "language": "python",
   "name": "python3"
  },
  "language_info": {
   "codemirror_mode": {
    "name": "ipython",
    "version": 3
   },
   "file_extension": ".py",
   "mimetype": "text/x-python",
   "name": "python",
   "nbconvert_exporter": "python",
   "pygments_lexer": "ipython3",
   "version": "3.8.3"
  }
 },
 "nbformat": 4,
 "nbformat_minor": 4
}
