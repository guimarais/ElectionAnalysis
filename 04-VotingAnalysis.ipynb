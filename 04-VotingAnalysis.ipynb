{
 "cells": [
  {
   "cell_type": "code",
   "execution_count": 21,
   "metadata": {},
   "outputs": [],
   "source": [
    "import pandas as pd\n",
    "import seaborn as sns\n",
    "import matplotlib.pyplot as plt\n",
    "import numpy as np\n",
    "sns.set_context('talk')\n",
    "\n",
    "plt.rcParams['font.family'] = \"Ubuntu\"\n",
    "vcolor = '#582c83'"
   ]
  },
  {
   "cell_type": "code",
   "execution_count": 2,
   "metadata": {},
   "outputs": [],
   "source": [
    "df = pd.read_csv(\"./Files/justVotes.csv\")"
   ]
  },
  {
   "cell_type": "code",
   "execution_count": 4,
   "metadata": {},
   "outputs": [
    {
     "data": {
      "text/html": [
       "<div>\n",
       "<style scoped>\n",
       "    .dataframe tbody tr th:only-of-type {\n",
       "        vertical-align: middle;\n",
       "    }\n",
       "\n",
       "    .dataframe tbody tr th {\n",
       "        vertical-align: top;\n",
       "    }\n",
       "\n",
       "    .dataframe thead th {\n",
       "        text-align: right;\n",
       "    }\n",
       "</style>\n",
       "<table border=\"1\" class=\"dataframe\">\n",
       "  <thead>\n",
       "    <tr style=\"text-align: right;\">\n",
       "      <th></th>\n",
       "      <th>CDU</th>\n",
       "      <th>SPD</th>\n",
       "      <th>GRÜNE</th>\n",
       "      <th>DIE LINKE</th>\n",
       "      <th>AfD</th>\n",
       "      <th>CSU</th>\n",
       "      <th>FDP</th>\n",
       "      <th>FREIE WÄHLER</th>\n",
       "      <th>PIRATEN</th>\n",
       "      <th>Tierschutzpartei</th>\n",
       "      <th>...</th>\n",
       "      <th>DIE FRAUEN</th>\n",
       "      <th>Graue Panther</th>\n",
       "      <th>LKR</th>\n",
       "      <th>MENSCHLICHE WELT</th>\n",
       "      <th>NL</th>\n",
       "      <th>ÖkoLinX</th>\n",
       "      <th>Die Humanisten</th>\n",
       "      <th>PARTEI FÜR DIE TIERE</th>\n",
       "      <th>Gesundheitsforschung</th>\n",
       "      <th>Volt</th>\n",
       "    </tr>\n",
       "  </thead>\n",
       "  <tbody>\n",
       "    <tr>\n",
       "      <th>0</th>\n",
       "      <td>69</td>\n",
       "      <td>84</td>\n",
       "      <td>77</td>\n",
       "      <td>21</td>\n",
       "      <td>44</td>\n",
       "      <td>0.0</td>\n",
       "      <td>25</td>\n",
       "      <td>3</td>\n",
       "      <td>2</td>\n",
       "      <td>9</td>\n",
       "      <td>...</td>\n",
       "      <td>2</td>\n",
       "      <td>0</td>\n",
       "      <td>0</td>\n",
       "      <td>0</td>\n",
       "      <td>0</td>\n",
       "      <td>0</td>\n",
       "      <td>0</td>\n",
       "      <td>1</td>\n",
       "      <td>1</td>\n",
       "      <td>5</td>\n",
       "    </tr>\n",
       "    <tr>\n",
       "      <th>1</th>\n",
       "      <td>24</td>\n",
       "      <td>37</td>\n",
       "      <td>39</td>\n",
       "      <td>5</td>\n",
       "      <td>19</td>\n",
       "      <td>0.0</td>\n",
       "      <td>7</td>\n",
       "      <td>3</td>\n",
       "      <td>4</td>\n",
       "      <td>0</td>\n",
       "      <td>...</td>\n",
       "      <td>0</td>\n",
       "      <td>0</td>\n",
       "      <td>0</td>\n",
       "      <td>0</td>\n",
       "      <td>0</td>\n",
       "      <td>1</td>\n",
       "      <td>0</td>\n",
       "      <td>0</td>\n",
       "      <td>0</td>\n",
       "      <td>2</td>\n",
       "    </tr>\n",
       "    <tr>\n",
       "      <th>2</th>\n",
       "      <td>145</td>\n",
       "      <td>145</td>\n",
       "      <td>153</td>\n",
       "      <td>26</td>\n",
       "      <td>61</td>\n",
       "      <td>0.0</td>\n",
       "      <td>34</td>\n",
       "      <td>5</td>\n",
       "      <td>4</td>\n",
       "      <td>11</td>\n",
       "      <td>...</td>\n",
       "      <td>1</td>\n",
       "      <td>7</td>\n",
       "      <td>0</td>\n",
       "      <td>0</td>\n",
       "      <td>0</td>\n",
       "      <td>0</td>\n",
       "      <td>2</td>\n",
       "      <td>4</td>\n",
       "      <td>1</td>\n",
       "      <td>7</td>\n",
       "    </tr>\n",
       "    <tr>\n",
       "      <th>3</th>\n",
       "      <td>114</td>\n",
       "      <td>115</td>\n",
       "      <td>133</td>\n",
       "      <td>28</td>\n",
       "      <td>66</td>\n",
       "      <td>0.0</td>\n",
       "      <td>20</td>\n",
       "      <td>10</td>\n",
       "      <td>10</td>\n",
       "      <td>5</td>\n",
       "      <td>...</td>\n",
       "      <td>0</td>\n",
       "      <td>1</td>\n",
       "      <td>1</td>\n",
       "      <td>0</td>\n",
       "      <td>0</td>\n",
       "      <td>0</td>\n",
       "      <td>4</td>\n",
       "      <td>2</td>\n",
       "      <td>1</td>\n",
       "      <td>1</td>\n",
       "    </tr>\n",
       "    <tr>\n",
       "      <th>4</th>\n",
       "      <td>93</td>\n",
       "      <td>105</td>\n",
       "      <td>156</td>\n",
       "      <td>45</td>\n",
       "      <td>53</td>\n",
       "      <td>0.0</td>\n",
       "      <td>21</td>\n",
       "      <td>6</td>\n",
       "      <td>8</td>\n",
       "      <td>8</td>\n",
       "      <td>...</td>\n",
       "      <td>0</td>\n",
       "      <td>4</td>\n",
       "      <td>1</td>\n",
       "      <td>0</td>\n",
       "      <td>0</td>\n",
       "      <td>0</td>\n",
       "      <td>0</td>\n",
       "      <td>1</td>\n",
       "      <td>0</td>\n",
       "      <td>4</td>\n",
       "    </tr>\n",
       "  </tbody>\n",
       "</table>\n",
       "<p>5 rows × 41 columns</p>\n",
       "</div>"
      ],
      "text/plain": [
       "   CDU  SPD  GRÜNE  DIE LINKE  AfD  CSU  FDP  FREIE WÄHLER  PIRATEN  \\\n",
       "0   69   84     77         21   44  0.0   25             3        2   \n",
       "1   24   37     39          5   19  0.0    7             3        4   \n",
       "2  145  145    153         26   61  0.0   34             5        4   \n",
       "3  114  115    133         28   66  0.0   20            10       10   \n",
       "4   93  105    156         45   53  0.0   21             6        8   \n",
       "\n",
       "   Tierschutzpartei  ...  DIE FRAUEN  Graue Panther  LKR  MENSCHLICHE WELT  \\\n",
       "0                 9  ...           2              0    0                 0   \n",
       "1                 0  ...           0              0    0                 0   \n",
       "2                11  ...           1              7    0                 0   \n",
       "3                 5  ...           0              1    1                 0   \n",
       "4                 8  ...           0              4    1                 0   \n",
       "\n",
       "   NL  ÖkoLinX  Die Humanisten  PARTEI FÜR DIE TIERE  Gesundheitsforschung  \\\n",
       "0   0        0               0                     1                     1   \n",
       "1   0        1               0                     0                     0   \n",
       "2   0        0               2                     4                     1   \n",
       "3   0        0               4                     2                     1   \n",
       "4   0        0               0                     1                     0   \n",
       "\n",
       "   Volt  \n",
       "0     5  \n",
       "1     2  \n",
       "2     7  \n",
       "3     1  \n",
       "4     4  \n",
       "\n",
       "[5 rows x 41 columns]"
      ]
     },
     "execution_count": 4,
     "metadata": {},
     "output_type": "execute_result"
    }
   ],
   "source": [
    "df.head()"
   ]
  },
  {
   "cell_type": "code",
   "execution_count": 7,
   "metadata": {},
   "outputs": [],
   "source": [
    "redux = df.iloc[:,0:6]"
   ]
  },
  {
   "cell_type": "code",
   "execution_count": 8,
   "metadata": {},
   "outputs": [],
   "source": [
    "redux['Volt'] = df['Volt']"
   ]
  },
  {
   "cell_type": "code",
   "execution_count": 9,
   "metadata": {},
   "outputs": [
    {
     "data": {
      "text/html": [
       "<div>\n",
       "<style scoped>\n",
       "    .dataframe tbody tr th:only-of-type {\n",
       "        vertical-align: middle;\n",
       "    }\n",
       "\n",
       "    .dataframe tbody tr th {\n",
       "        vertical-align: top;\n",
       "    }\n",
       "\n",
       "    .dataframe thead th {\n",
       "        text-align: right;\n",
       "    }\n",
       "</style>\n",
       "<table border=\"1\" class=\"dataframe\">\n",
       "  <thead>\n",
       "    <tr style=\"text-align: right;\">\n",
       "      <th></th>\n",
       "      <th>CDU</th>\n",
       "      <th>SPD</th>\n",
       "      <th>GRÜNE</th>\n",
       "      <th>DIE LINKE</th>\n",
       "      <th>AfD</th>\n",
       "      <th>CSU</th>\n",
       "      <th>Volt</th>\n",
       "    </tr>\n",
       "  </thead>\n",
       "  <tbody>\n",
       "    <tr>\n",
       "      <th>0</th>\n",
       "      <td>69</td>\n",
       "      <td>84</td>\n",
       "      <td>77</td>\n",
       "      <td>21</td>\n",
       "      <td>44</td>\n",
       "      <td>0.0</td>\n",
       "      <td>5</td>\n",
       "    </tr>\n",
       "    <tr>\n",
       "      <th>1</th>\n",
       "      <td>24</td>\n",
       "      <td>37</td>\n",
       "      <td>39</td>\n",
       "      <td>5</td>\n",
       "      <td>19</td>\n",
       "      <td>0.0</td>\n",
       "      <td>2</td>\n",
       "    </tr>\n",
       "    <tr>\n",
       "      <th>2</th>\n",
       "      <td>145</td>\n",
       "      <td>145</td>\n",
       "      <td>153</td>\n",
       "      <td>26</td>\n",
       "      <td>61</td>\n",
       "      <td>0.0</td>\n",
       "      <td>7</td>\n",
       "    </tr>\n",
       "    <tr>\n",
       "      <th>3</th>\n",
       "      <td>114</td>\n",
       "      <td>115</td>\n",
       "      <td>133</td>\n",
       "      <td>28</td>\n",
       "      <td>66</td>\n",
       "      <td>0.0</td>\n",
       "      <td>1</td>\n",
       "    </tr>\n",
       "    <tr>\n",
       "      <th>4</th>\n",
       "      <td>93</td>\n",
       "      <td>105</td>\n",
       "      <td>156</td>\n",
       "      <td>45</td>\n",
       "      <td>53</td>\n",
       "      <td>0.0</td>\n",
       "      <td>4</td>\n",
       "    </tr>\n",
       "  </tbody>\n",
       "</table>\n",
       "</div>"
      ],
      "text/plain": [
       "   CDU  SPD  GRÜNE  DIE LINKE  AfD  CSU  Volt\n",
       "0   69   84     77         21   44  0.0     5\n",
       "1   24   37     39          5   19  0.0     2\n",
       "2  145  145    153         26   61  0.0     7\n",
       "3  114  115    133         28   66  0.0     1\n",
       "4   93  105    156         45   53  0.0     4"
      ]
     },
     "execution_count": 9,
     "metadata": {},
     "output_type": "execute_result"
    }
   ],
   "source": [
    "redux.head()"
   ]
  },
  {
   "cell_type": "code",
   "execution_count": 11,
   "metadata": {},
   "outputs": [],
   "source": [
    "corr = redux.corr()"
   ]
  },
  {
   "cell_type": "code",
   "execution_count": 18,
   "metadata": {},
   "outputs": [],
   "source": [
    "cmap = sns.diverging_palette(220, 10, as_cmap=True)"
   ]
  },
  {
   "cell_type": "code",
   "execution_count": 27,
   "metadata": {},
   "outputs": [
    {
     "data": {
      "image/png": "[encoded data removed]",
      "text/plain": [
       "<Figure size 504x504 with 2 Axes>"
      ]
     },
     "metadata": {
      "needs_background": "light"
     },
     "output_type": "display_data"
    }
   ],
   "source": [
    "fig, ax = plt.subplots(figsize=(7,7))\n",
    "mask = np.triu(np.ones_like(corr, dtype=np.bool))\n",
    "sns.heatmap(corr, ax=ax, mask=mask, cmap=cmap, center=0.0, annot=True, annot_kws={'size': 14})\n",
    "plt.show()"
   ]
  },
  {
   "cell_type": "markdown",
   "metadata": {},
   "source": [
    "---"
   ]
  },
  {
   "cell_type": "code",
   "execution_count": 28,
   "metadata": {},
   "outputs": [],
   "source": [
    "from sklearn.model_selection import train_test_split \n",
    "from sklearn.linear_model import LinearRegression\n",
    "from sklearn import metrics"
   ]
  },
  {
   "cell_type": "code",
   "execution_count": 30,
   "metadata": {},
   "outputs": [
    {
     "data": {
      "text/html": [
       "<div>\n",
       "<style scoped>\n",
       "    .dataframe tbody tr th:only-of-type {\n",
       "        vertical-align: middle;\n",
       "    }\n",
       "\n",
       "    .dataframe tbody tr th {\n",
       "        vertical-align: top;\n",
       "    }\n",
       "\n",
       "    .dataframe thead th {\n",
       "        text-align: right;\n",
       "    }\n",
       "</style>\n",
       "<table border=\"1\" class=\"dataframe\">\n",
       "  <thead>\n",
       "    <tr style=\"text-align: right;\">\n",
       "      <th></th>\n",
       "      <th>CDU</th>\n",
       "      <th>SPD</th>\n",
       "      <th>GRÜNE</th>\n",
       "      <th>DIE LINKE</th>\n",
       "      <th>AfD</th>\n",
       "      <th>CSU</th>\n",
       "      <th>Volt</th>\n",
       "    </tr>\n",
       "  </thead>\n",
       "  <tbody>\n",
       "    <tr>\n",
       "      <th>count</th>\n",
       "      <td>86887.000000</td>\n",
       "      <td>86887.000000</td>\n",
       "      <td>86887.000000</td>\n",
       "      <td>86887.000000</td>\n",
       "      <td>86887.000000</td>\n",
       "      <td>86876.000000</td>\n",
       "      <td>86887.000000</td>\n",
       "    </tr>\n",
       "    <tr>\n",
       "      <th>mean</th>\n",
       "      <td>97.125865</td>\n",
       "      <td>68.098588</td>\n",
       "      <td>88.356958</td>\n",
       "      <td>23.663482</td>\n",
       "      <td>47.238977</td>\n",
       "      <td>27.108373</td>\n",
       "      <td>2.866919</td>\n",
       "    </tr>\n",
       "    <tr>\n",
       "      <th>std</th>\n",
       "      <td>94.929918</td>\n",
       "      <td>53.514993</td>\n",
       "      <td>74.947621</td>\n",
       "      <td>26.258234</td>\n",
       "      <td>36.734228</td>\n",
       "      <td>67.740633</td>\n",
       "      <td>4.009490</td>\n",
       "    </tr>\n",
       "    <tr>\n",
       "      <th>min</th>\n",
       "      <td>0.000000</td>\n",
       "      <td>0.000000</td>\n",
       "      <td>0.000000</td>\n",
       "      <td>0.000000</td>\n",
       "      <td>0.000000</td>\n",
       "      <td>0.000000</td>\n",
       "      <td>0.000000</td>\n",
       "    </tr>\n",
       "    <tr>\n",
       "      <th>25%</th>\n",
       "      <td>32.000000</td>\n",
       "      <td>32.000000</td>\n",
       "      <td>33.000000</td>\n",
       "      <td>8.000000</td>\n",
       "      <td>24.000000</td>\n",
       "      <td>0.000000</td>\n",
       "      <td>0.000000</td>\n",
       "    </tr>\n",
       "    <tr>\n",
       "      <th>50%</th>\n",
       "      <td>81.000000</td>\n",
       "      <td>58.000000</td>\n",
       "      <td>70.000000</td>\n",
       "      <td>16.000000</td>\n",
       "      <td>38.000000</td>\n",
       "      <td>0.000000</td>\n",
       "      <td>2.000000</td>\n",
       "    </tr>\n",
       "    <tr>\n",
       "      <th>75%</th>\n",
       "      <td>136.000000</td>\n",
       "      <td>91.000000</td>\n",
       "      <td>123.000000</td>\n",
       "      <td>29.000000</td>\n",
       "      <td>59.000000</td>\n",
       "      <td>0.000000</td>\n",
       "      <td>4.000000</td>\n",
       "    </tr>\n",
       "    <tr>\n",
       "      <th>max</th>\n",
       "      <td>2062.000000</td>\n",
       "      <td>1088.000000</td>\n",
       "      <td>1449.000000</td>\n",
       "      <td>460.000000</td>\n",
       "      <td>524.000000</td>\n",
       "      <td>900.000000</td>\n",
       "      <td>94.000000</td>\n",
       "    </tr>\n",
       "  </tbody>\n",
       "</table>\n",
       "</div>"
      ],
      "text/plain": [
       "                CDU           SPD         GRÜNE     DIE LINKE           AfD  \\\n",
       "count  86887.000000  86887.000000  86887.000000  86887.000000  86887.000000   \n",
       "mean      97.125865     68.098588     88.356958     23.663482     47.238977   \n",
       "std       94.929918     53.514993     74.947621     26.258234     36.734228   \n",
       "min        0.000000      0.000000      0.000000      0.000000      0.000000   \n",
       "25%       32.000000     32.000000     33.000000      8.000000     24.000000   \n",
       "50%       81.000000     58.000000     70.000000     16.000000     38.000000   \n",
       "75%      136.000000     91.000000    123.000000     29.000000     59.000000   \n",
       "max     2062.000000   1088.000000   1449.000000    460.000000    524.000000   \n",
       "\n",
       "                CSU          Volt  \n",
       "count  86876.000000  86887.000000  \n",
       "mean      27.108373      2.866919  \n",
       "std       67.740633      4.009490  \n",
       "min        0.000000      0.000000  \n",
       "25%        0.000000      0.000000  \n",
       "50%        0.000000      2.000000  \n",
       "75%        0.000000      4.000000  \n",
       "max      900.000000     94.000000  "
      ]
     },
     "execution_count": 30,
     "metadata": {},
     "output_type": "execute_result"
    }
   ],
   "source": [
    "redux.describe()"
   ]
  },
  {
   "cell_type": "code",
   "execution_count": 41,
   "metadata": {},
   "outputs": [],
   "source": [
    "redux.fillna(value=0.0, inplace=True)"
   ]
  },
  {
   "cell_type": "code",
   "execution_count": 42,
   "metadata": {},
   "outputs": [],
   "source": [
    "X = redux.iloc[:,:-1]\n",
    "y = redux['Volt']"
   ]
  },
  {
   "cell_type": "code",
   "execution_count": 43,
   "metadata": {},
   "outputs": [],
   "source": [
    "X_train, X_test, y_train, y_test = train_test_split(X, y, test_size=0.2, random_state=0)"
   ]
  },
  {
   "cell_type": "code",
   "execution_count": 44,
   "metadata": {},
   "outputs": [
    {
     "data": {
      "text/plain": [
       "LinearRegression()"
      ]
     },
     "execution_count": 44,
     "metadata": {},
     "output_type": "execute_result"
    }
   ],
   "source": [
    "reglin = LinearRegression()  \n",
    "reglin.fit(X_train, y_train)"
   ]
  },
  {
   "cell_type": "code",
   "execution_count": 45,
   "metadata": {},
   "outputs": [
    {
     "name": "stdout",
     "output_type": "stream",
     "text": [
      "0.11351001085816215\n",
      "[-0.00974181 -0.00905997  0.04266096  0.02325246  0.00168441 -0.00295929]\n"
     ]
    }
   ],
   "source": [
    "#To retrieve the intercept:\n",
    "print(reglin.intercept_)#For retrieving the slope:\n",
    "print(reglin.coef_)"
   ]
  },
  {
   "cell_type": "code",
   "execution_count": 46,
   "metadata": {},
   "outputs": [],
   "source": [
    "y_pred = reglin.predict(X_test)"
   ]
  },
  {
   "cell_type": "code",
   "execution_count": 49,
   "metadata": {},
   "outputs": [],
   "source": [
    "comp = pd.DataFrame({'Actual': y_test, 'Predicted': y_pred})\n"
   ]
  },
  {
   "cell_type": "code",
   "execution_count": 54,
   "metadata": {},
   "outputs": [
    {
     "name": "stdout",
     "output_type": "stream",
     "text": [
      "Mean Absolute Error: 1.7257219414244884\n",
      "Mean Squared Error: 7.356394869503005\n",
      "Root Mean Squared Error: 2.7122674774997773\n"
     ]
    }
   ],
   "source": [
    "print('Mean Absolute Error:', metrics.mean_absolute_error(y_test, y_pred))  \n",
    "print('Mean Squared Error:', metrics.mean_squared_error(y_test, y_pred))  \n",
    "print('Root Mean Squared Error:', np.sqrt(metrics.mean_squared_error(y_test, y_pred)))"
   ]
  },
  {
   "cell_type": "code",
   "execution_count": 68,
   "metadata": {},
   "outputs": [
    {
     "data": {
      "image/png": "[encoded data removed]",
      "text/plain": [
       "<Figure size 432x432 with 3 Axes>"
      ]
     },
     "metadata": {
      "needs_background": "light"
     },
     "output_type": "display_data"
    }
   ],
   "source": [
    "#fig, ax = plt.subplots(figsize=(6,6))\n",
    "\n",
    "sns.jointplot(y_test, y_pred, kind='hex', color=vcolor)\n",
    "#plt.plot([0,60], [0,60], c='r', lw=2)\n",
    "plt.show()"
   ]
  },
  {
   "cell_type": "code",
   "execution_count": 74,
   "metadata": {},
   "outputs": [
    {
     "data": {
      "image/png": "[encoded data removed]",
      "text/plain": [
       "<Figure size 432x288 with 1 Axes>"
      ]
     },
     "metadata": {
      "needs_background": "light"
     },
     "output_type": "display_data"
    }
   ],
   "source": [
    "plt.scatter(y_test, y_pred, color=vcolor, s=5)\n",
    "plt.plot([0,36], [0,36], c='r', lw=2)\n",
    "plt.xlim(0, 62)\n",
    "plt.ylim(-5, 36)\n",
    "plt.xlabel(\"Votes, test set\")\n",
    "plt.ylabel(\"Votes, predicted\")\n",
    "plt.show()"
   ]
  },
  {
   "cell_type": "code",
   "execution_count": null,
   "metadata": {},
   "outputs": [],
   "source": []
  }
 ],
 "metadata": {
  "kernelspec": {
   "display_name": "Python 3",
   "language": "python",
   "name": "python3"
  },
  "language_info": {
   "codemirror_mode": {
    "name": "ipython",
    "version": 3
   },
   "file_extension": ".py",
   "mimetype": "text/x-python",
   "name": "python",
   "nbconvert_exporter": "python",
   "pygments_lexer": "ipython3",
   "version": "3.8.3"
  }
 },
 "nbformat": 4,
 "nbformat_minor": 4
}
